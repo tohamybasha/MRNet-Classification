{
  "nbformat": 4,
  "nbformat_minor": 0,
  "metadata": {
    "colab": {
      "name": "MRNet3.ipynb",
      "provenance": [],
      "collapsed_sections": [],
      "toc_visible": true
    },
    "kernelspec": {
      "name": "python3",
      "display_name": "Python 3"
    },
    "accelerator": "GPU"
  },
  "cells": [
    {
      "cell_type": "markdown",
      "metadata": {
        "id": "5gPXg-HvdqKZ",
        "colab_type": "text"
      },
      "source": [
        "The first 3 Cells to Download the data and extracting it in google drive"
      ]
    },
    {
      "cell_type": "code",
      "metadata": {
        "id": "dlath2hEVtCM",
        "colab_type": "code",
        "outputId": "2a45b6d9-94fa-49cb-adc5-44ee4ba739f7",
        "colab": {
          "base_uri": "https://localhost:8080/",
          "height": 202
        }
      },
      "source": [
        "!wget http://download.cs.stanford.edu/deep/MRNet-v1.0.zip"
      ],
      "execution_count": 0,
      "outputs": [
        {
          "output_type": "stream",
          "text": [
            "--2019-05-19 11:49:07--  http://download.cs.stanford.edu/deep/MRNet-v1.0.zip\n",
            "Resolving download.cs.stanford.edu (download.cs.stanford.edu)... 171.64.64.22\n",
            "Connecting to download.cs.stanford.edu (download.cs.stanford.edu)|171.64.64.22|:80... connected.\n",
            "HTTP request sent, awaiting response... 200 OK\n",
            "Length: 6087523606 (5.7G) [application/zip]\n",
            "Saving to: ‘MRNet-v1.0.zip’\n",
            "\n",
            "MRNet-v1.0.zip      100%[===================>]   5.67G  17.5MB/s    in 5m 17s  \n",
            "\n",
            "2019-05-19 11:54:24 (18.3 MB/s) - ‘MRNet-v1.0.zip’ saved [6087523606/6087523606]\n",
            "\n"
          ],
          "name": "stdout"
        }
      ]
    },
    {
      "cell_type": "code",
      "metadata": {
        "id": "eHtcXRq8Xv8J",
        "colab_type": "code",
        "outputId": "1a66ba5d-11ef-4838-c01d-123427ad17a5",
        "colab": {
          "base_uri": "https://localhost:8080/",
          "height": 34
        }
      },
      "source": [
        "from google.colab import drive\n",
        "drive.mount('/content/gdrive')\n"
      ],
      "execution_count": 0,
      "outputs": [
        {
          "output_type": "stream",
          "text": [
            "Drive already mounted at /content/gdrive; to attempt to forcibly remount, call drive.mount(\"/content/gdrive\", force_remount=True).\n"
          ],
          "name": "stdout"
        }
      ]
    },
    {
      "cell_type": "code",
      "metadata": {
        "id": "GM2PZLMN62Jw",
        "colab_type": "code",
        "outputId": "72c52e49-0c64-4c46-ea87-96f1e414a5fb",
        "colab": {
          "base_uri": "https://localhost:8080/",
          "height": 118
        }
      },
      "source": [
        "!unzip -qq \"/content/MRNet-v1.0.zip\" -d \"/content/gdrive/My Drive/MRNet Challenge/\""
      ],
      "execution_count": 0,
      "outputs": [
        {
          "output_type": "stream",
          "text": [
            "warning [/content/MRNet-v1.0.zip]:  4294967296 extra bytes at beginning or within zipfile\n",
            "  (attempting to process anyway)\n",
            "file #1:  bad zipfile offset (local header sig):  4294967296\n",
            "  (attempting to re-compensate)\n",
            "file #2547:  bad zipfile offset (local header sig):  1353202\n",
            "  (attempting to re-compensate)\n"
          ],
          "name": "stdout"
        }
      ]
    },
    {
      "cell_type": "markdown",
      "metadata": {
        "id": "yVoiVKEzeOeX",
        "colab_type": "text"
      },
      "source": [
        "# Data Set Exploaration\n",
        "This Cell to learn how to read an image from the data set .\n",
        "\n",
        "you will find the images is saved as numpy array ,each image have a lot of different  copies may be 44 or 38 not a constant number .\n",
        "The data set consist of videos not images .\n",
        "\n",
        "to make it clear \n",
        "we will have a model with input of (number of photos in video*3*256*256)\n",
        "why 3 ?i don't know \n",
        "we will make three different models\n",
        "the csv files are the labels of the data \n",
        "\n",
        "note : cv2.imshow() function is not working just use cv2_imshow() \n",
        "the difference is the \".\"\n",
        "\n"
      ]
    },
    {
      "cell_type": "code",
      "metadata": {
        "id": "5RvlVYm__8CO",
        "colab_type": "code",
        "colab": {}
      },
      "source": [
        "import numpy as np\n",
        "import cv2\n",
        "import pandas as pd \n",
        "from google.colab.patches import cv2_imshow\n",
        "\n",
        "# Read data from file 'filename.csv' \n",
        "# (in the same directory that your python process is based)\n",
        "# Control delimiters, rows, column names with read_csv (see later) \n",
        "data1 = pd.read_csv(\"/content/gdrive/My Drive/MRNet Challenge/MRNet-v1.0/train-abnormal.csv\") \n",
        "print(data1.shape)\n",
        "\n",
        "data2 = pd.read_csv(\"/content/gdrive/My Drive/MRNet Challenge/MRNet-v1.0/train-acl.csv\") \n",
        "print(data2.shape)\n",
        "\n",
        "data3 = pd.read_csv(\"/content/gdrive/My Drive/MRNet Challenge/MRNet-v1.0/train-meniscus.csv\") \n",
        "print(data3.shape)\n",
        "# print(data[0,0])\n",
        "# print(type(data[0,0]))\n",
        "a=np.load(\"/content/gdrive/My Drive/MRNet Challenge/MRNet-v1.0/train/coronal/0002.npy\")\n",
        "# print(a)\n",
        "print(a.shape)\n",
        "cv2_imshow(a[0])\n",
        "cv2_imshow(a[1])\n",
        "cv2_imshow(a[2])\n",
        "cv2_imshow(a[3])\n",
        "cv2_imshow(a[4])"
      ],
      "execution_count": 0,
      "outputs": []
    },
    {
      "cell_type": "markdown",
      "metadata": {
        "id": "fCPQEmfUgAVv",
        "colab_type": "text"
      },
      "source": [
        "# Reading the whole dataset\n",
        "**be careful don't run this cell again it will take around 15 mins** "
      ]
    },
    {
      "cell_type": "code",
      "metadata": {
        "id": "5HuiOjaqgAjh",
        "colab_type": "code",
        "outputId": "baa101df-50a1-4edd-a737-18e13c93272b",
        "colab": {
          "base_uri": "https://localhost:8080/",
          "height": 20097
        }
      },
      "source": [
        "import cv2\n",
        "import os\n",
        "import numpy as np\n",
        "from google.colab.patches import cv2_imshow\n",
        "\n",
        "def to_rgb(img,i):\n",
        "    img = cv2.resize(img, (256,256), interpolation = cv2.INTER_AREA) \n",
        "    img_rgb = np.asarray(np.dstack((img, img, img)), dtype=np.uint8)\n",
        "    return img_rgb\n",
        "\n",
        "paths =[ \"/content/gdrive/My Drive/MRNet Challenge/MRNet-v1.0/train/coronal/\"\n",
        "        ,\"/content/gdrive/My Drive/MRNet Challenge/MRNet-v1.0/train/axial/\",\"/content/gdrive/My Drive/MRNet Challenge/MRNet-v1.0/train/sagittal/\"]\n",
        "all_data = []\n",
        "for path in paths:\n",
        "  directory=[]\n",
        "  for r, d, f in os.walk(path):\n",
        "      f = np.sort(f)\n",
        "      for file in f:\n",
        "          \n",
        "          if '.npy' in file:\n",
        "              directory.append(os.path.join(r, file))\n",
        "  all_data.append(directory)\n",
        "  \n",
        "\n",
        "coronal=np.zeros(shape=(16649,256,256,3),dtype='uint8')\n",
        "coronalList=[]\n",
        "sizes=[]\n",
        "k=0\n",
        "for i in range(len(all_data[0])):\n",
        "  print(i)\n",
        "  a=np.load(all_data[0][i])\n",
        "  f,j,k=a.shape\n",
        "  sizes.append(f//2)\n",
        "  for j in range(f//2):\n",
        "    b=to_rgb(a[j],i+j)\n",
        "    coronalList.append(b)\n",
        "\n",
        "  \n",
        "    k+=1\n",
        "coronal=np.asarray(coronalList,dtype='uint8')\n",
        "coronalList=None\n",
        "print(coronal.shape)\n",
        "print(\"coronal read\")\n",
        "\n",
        "\n"
      ],
      "execution_count": 0,
      "outputs": [
        {
          "output_type": "stream",
          "text": [
            "1130\n",
            "0\n",
            "(256, 256)\n"
          ],
          "name": "stdout"
        },
        {
          "output_type": "display_data",
          "data": {
            "image/png": "[encoded data removed]",
            "text/plain": [
              "<PIL.Image.Image image mode=L size=256x256 at 0x7FBD27E02B00>"
            ]
          },
          "metadata": {
            "tags": []
          }
        },
        {
          "output_type": "stream",
          "text": [
            "(256, 256, 3)\n"
          ],
          "name": "stdout"
        },
        {
          "output_type": "display_data",
          "data": {
            "image/png": "[encoded data removed]",
            "text/plain": [
              "<PIL.Image.Image image mode=RGB size=256x256 at 0x7FBD27E02CC0>"
            ]
          },
          "metadata": {
            "tags": []
          }
        },
        {
          "output_type": "stream",
          "text": [
            "1\n",
            "2\n",
            "3\n",
            "4\n",
            "5\n",
            "6\n",
            "7\n",
            "8\n",
            "9\n",
            "10\n",
            "11\n",
            "12\n",
            "13\n",
            "14\n",
            "15\n",
            "16\n",
            "17\n",
            "18\n",
            "19\n",
            "20\n",
            "21\n",
            "22\n",
            "23\n",
            "24\n",
            "25\n",
            "26\n",
            "27\n",
            "28\n",
            "29\n",
            "30\n",
            "31\n",
            "32\n",
            "33\n",
            "34\n",
            "35\n",
            "36\n",
            "37\n",
            "38\n",
            "39\n",
            "40\n",
            "41\n",
            "42\n",
            "43\n",
            "44\n",
            "45\n",
            "46\n",
            "47\n",
            "48\n",
            "49\n",
            "50\n",
            "51\n",
            "52\n",
            "53\n",
            "54\n",
            "55\n",
            "56\n",
            "57\n",
            "58\n",
            "59\n",
            "60\n",
            "61\n",
            "62\n",
            "63\n",
            "64\n",
            "65\n",
            "66\n",
            "67\n",
            "68\n",
            "69\n",
            "70\n",
            "71\n",
            "72\n",
            "73\n",
            "74\n",
            "75\n",
            "76\n",
            "77\n",
            "78\n",
            "79\n",
            "80\n",
            "81\n",
            "82\n",
            "83\n",
            "84\n",
            "85\n",
            "86\n",
            "87\n",
            "88\n",
            "89\n",
            "90\n",
            "91\n",
            "92\n",
            "93\n",
            "94\n",
            "95\n",
            "96\n",
            "97\n",
            "98\n",
            "99\n",
            "100\n",
            "101\n",
            "102\n",
            "103\n",
            "104\n",
            "105\n",
            "106\n",
            "107\n",
            "108\n",
            "109\n",
            "110\n",
            "111\n",
            "112\n",
            "113\n",
            "114\n",
            "115\n",
            "116\n",
            "117\n",
            "118\n",
            "119\n",
            "120\n",
            "121\n",
            "122\n",
            "123\n",
            "124\n",
            "125\n",
            "126\n",
            "127\n",
            "128\n",
            "129\n",
            "130\n",
            "131\n",
            "132\n",
            "133\n",
            "134\n",
            "135\n",
            "136\n",
            "137\n",
            "138\n",
            "139\n",
            "140\n",
            "141\n",
            "142\n",
            "143\n",
            "144\n",
            "145\n",
            "146\n",
            "147\n",
            "148\n",
            "149\n",
            "150\n",
            "151\n",
            "152\n",
            "153\n",
            "154\n",
            "155\n",
            "156\n",
            "157\n",
            "158\n",
            "159\n",
            "160\n",
            "161\n",
            "162\n",
            "163\n",
            "164\n",
            "165\n",
            "166\n",
            "167\n",
            "168\n",
            "169\n",
            "170\n",
            "171\n",
            "172\n",
            "173\n",
            "174\n",
            "175\n",
            "176\n",
            "177\n",
            "178\n",
            "179\n",
            "180\n",
            "181\n",
            "182\n",
            "183\n",
            "184\n",
            "185\n",
            "186\n",
            "187\n",
            "188\n",
            "189\n",
            "190\n",
            "191\n",
            "192\n",
            "193\n",
            "194\n",
            "195\n",
            "196\n",
            "197\n",
            "198\n",
            "199\n",
            "200\n",
            "201\n",
            "202\n",
            "203\n",
            "204\n",
            "205\n",
            "206\n",
            "207\n",
            "208\n",
            "209\n",
            "210\n",
            "211\n",
            "212\n",
            "213\n",
            "214\n",
            "215\n",
            "216\n",
            "217\n",
            "218\n",
            "219\n",
            "220\n",
            "221\n",
            "222\n",
            "223\n",
            "224\n",
            "225\n",
            "226\n",
            "227\n",
            "228\n",
            "229\n",
            "230\n",
            "231\n",
            "232\n",
            "233\n",
            "234\n",
            "235\n",
            "236\n",
            "237\n",
            "238\n",
            "239\n",
            "240\n",
            "241\n",
            "242\n",
            "243\n",
            "244\n",
            "245\n",
            "246\n",
            "247\n",
            "248\n",
            "249\n",
            "250\n",
            "251\n",
            "252\n",
            "253\n",
            "254\n",
            "255\n",
            "256\n",
            "257\n",
            "258\n",
            "259\n",
            "260\n",
            "261\n",
            "262\n",
            "263\n",
            "264\n",
            "265\n",
            "266\n",
            "267\n",
            "268\n",
            "269\n",
            "270\n",
            "271\n",
            "272\n",
            "273\n",
            "274\n",
            "275\n",
            "276\n",
            "277\n",
            "278\n",
            "279\n",
            "280\n",
            "281\n",
            "282\n",
            "283\n",
            "284\n",
            "285\n",
            "286\n",
            "287\n",
            "288\n",
            "289\n",
            "290\n",
            "291\n",
            "292\n",
            "293\n",
            "294\n",
            "295\n",
            "296\n",
            "297\n",
            "298\n",
            "299\n",
            "300\n",
            "301\n",
            "302\n",
            "303\n",
            "304\n",
            "305\n",
            "306\n",
            "307\n",
            "308\n",
            "309\n",
            "310\n",
            "311\n",
            "312\n",
            "313\n",
            "314\n",
            "315\n",
            "316\n",
            "317\n",
            "318\n",
            "319\n",
            "320\n",
            "321\n",
            "322\n",
            "323\n",
            "324\n",
            "325\n",
            "326\n",
            "327\n",
            "328\n",
            "329\n",
            "330\n",
            "331\n",
            "332\n",
            "333\n",
            "334\n",
            "335\n",
            "336\n",
            "337\n",
            "338\n",
            "339\n",
            "340\n",
            "341\n",
            "342\n",
            "343\n",
            "344\n",
            "345\n",
            "346\n",
            "347\n",
            "348\n",
            "349\n",
            "350\n",
            "351\n",
            "352\n",
            "353\n",
            "354\n",
            "355\n",
            "356\n",
            "357\n",
            "358\n",
            "359\n",
            "360\n",
            "361\n",
            "362\n",
            "363\n",
            "364\n",
            "365\n",
            "366\n",
            "367\n",
            "368\n",
            "369\n",
            "370\n",
            "371\n",
            "372\n",
            "373\n",
            "374\n",
            "375\n",
            "376\n",
            "377\n",
            "378\n",
            "379\n",
            "380\n",
            "381\n",
            "382\n",
            "383\n",
            "384\n",
            "385\n",
            "386\n",
            "387\n",
            "388\n",
            "389\n",
            "390\n",
            "391\n",
            "392\n",
            "393\n",
            "394\n",
            "395\n",
            "396\n",
            "397\n",
            "398\n",
            "399\n",
            "400\n",
            "401\n",
            "402\n",
            "403\n",
            "404\n",
            "405\n",
            "406\n",
            "407\n",
            "408\n",
            "409\n",
            "410\n",
            "411\n",
            "412\n",
            "413\n",
            "414\n",
            "415\n",
            "416\n",
            "417\n",
            "418\n",
            "419\n",
            "420\n",
            "421\n",
            "422\n",
            "423\n",
            "424\n",
            "425\n",
            "426\n",
            "427\n",
            "428\n",
            "429\n",
            "430\n",
            "431\n",
            "432\n",
            "433\n",
            "434\n",
            "435\n",
            "436\n",
            "437\n",
            "438\n",
            "439\n",
            "440\n",
            "441\n",
            "442\n",
            "443\n",
            "444\n",
            "445\n",
            "446\n",
            "447\n",
            "448\n",
            "449\n",
            "450\n",
            "451\n",
            "452\n",
            "453\n",
            "454\n",
            "455\n",
            "456\n",
            "457\n",
            "458\n",
            "459\n",
            "460\n",
            "461\n",
            "462\n",
            "463\n",
            "464\n",
            "465\n",
            "466\n",
            "467\n",
            "468\n",
            "469\n",
            "470\n",
            "471\n",
            "472\n",
            "473\n",
            "474\n",
            "475\n",
            "476\n",
            "477\n",
            "478\n",
            "479\n",
            "480\n",
            "481\n",
            "482\n",
            "483\n",
            "484\n",
            "485\n",
            "486\n",
            "487\n",
            "488\n",
            "489\n",
            "490\n",
            "491\n",
            "492\n",
            "493\n",
            "494\n",
            "495\n",
            "496\n",
            "497\n",
            "498\n",
            "499\n",
            "500\n",
            "501\n",
            "502\n",
            "503\n",
            "504\n",
            "505\n",
            "506\n",
            "507\n",
            "508\n",
            "509\n",
            "510\n",
            "511\n",
            "512\n",
            "513\n",
            "514\n",
            "515\n",
            "516\n",
            "517\n",
            "518\n",
            "519\n",
            "520\n",
            "521\n",
            "522\n",
            "523\n",
            "524\n",
            "525\n",
            "526\n",
            "527\n",
            "528\n",
            "529\n",
            "530\n",
            "531\n",
            "532\n",
            "533\n",
            "534\n",
            "535\n",
            "536\n",
            "537\n",
            "538\n",
            "539\n",
            "540\n",
            "541\n",
            "542\n",
            "543\n",
            "544\n",
            "545\n",
            "546\n",
            "547\n",
            "548\n",
            "549\n",
            "550\n",
            "551\n",
            "552\n",
            "553\n",
            "554\n",
            "555\n",
            "556\n",
            "557\n",
            "558\n",
            "559\n",
            "560\n",
            "561\n",
            "562\n",
            "563\n",
            "564\n",
            "565\n",
            "566\n",
            "567\n",
            "568\n",
            "569\n",
            "570\n",
            "571\n",
            "572\n",
            "573\n",
            "574\n",
            "575\n",
            "576\n",
            "577\n",
            "578\n",
            "579\n",
            "580\n",
            "581\n",
            "582\n",
            "583\n",
            "584\n",
            "585\n",
            "586\n",
            "587\n",
            "588\n",
            "589\n",
            "590\n",
            "591\n",
            "592\n",
            "593\n",
            "594\n",
            "595\n",
            "596\n",
            "597\n",
            "598\n",
            "599\n",
            "600\n",
            "601\n",
            "602\n",
            "603\n",
            "604\n",
            "605\n",
            "606\n",
            "607\n",
            "608\n",
            "609\n",
            "610\n",
            "611\n",
            "612\n",
            "613\n",
            "614\n",
            "615\n",
            "616\n",
            "617\n",
            "618\n",
            "619\n",
            "620\n",
            "621\n",
            "622\n",
            "623\n",
            "624\n",
            "625\n",
            "626\n",
            "627\n",
            "628\n",
            "629\n",
            "630\n",
            "631\n",
            "632\n",
            "633\n",
            "634\n",
            "635\n",
            "636\n",
            "637\n",
            "638\n",
            "639\n",
            "640\n",
            "641\n",
            "642\n",
            "643\n",
            "644\n",
            "645\n",
            "646\n",
            "647\n",
            "648\n",
            "649\n",
            "650\n",
            "651\n",
            "652\n",
            "653\n",
            "654\n",
            "655\n",
            "656\n",
            "657\n",
            "658\n",
            "659\n",
            "660\n",
            "661\n",
            "662\n",
            "663\n",
            "664\n",
            "665\n",
            "666\n",
            "667\n",
            "668\n",
            "669\n",
            "670\n",
            "671\n",
            "672\n",
            "673\n",
            "674\n",
            "675\n",
            "676\n",
            "677\n",
            "678\n",
            "679\n",
            "680\n",
            "681\n",
            "682\n",
            "683\n",
            "684\n",
            "685\n",
            "686\n",
            "687\n",
            "688\n",
            "689\n",
            "690\n",
            "691\n",
            "692\n",
            "693\n",
            "694\n",
            "695\n",
            "696\n",
            "697\n",
            "698\n",
            "699\n",
            "700\n",
            "701\n",
            "702\n",
            "703\n",
            "704\n",
            "705\n",
            "706\n",
            "707\n",
            "708\n",
            "709\n",
            "710\n",
            "711\n",
            "712\n",
            "713\n",
            "714\n",
            "715\n",
            "716\n",
            "717\n",
            "718\n",
            "719\n",
            "720\n",
            "721\n",
            "722\n",
            "723\n",
            "724\n",
            "725\n",
            "726\n",
            "727\n",
            "728\n",
            "729\n",
            "730\n",
            "731\n",
            "732\n",
            "733\n",
            "734\n",
            "735\n",
            "736\n",
            "737\n",
            "738\n",
            "739\n",
            "740\n",
            "741\n",
            "742\n",
            "743\n",
            "744\n",
            "745\n",
            "746\n",
            "747\n",
            "748\n",
            "749\n",
            "750\n",
            "751\n",
            "752\n",
            "753\n",
            "754\n",
            "755\n",
            "756\n",
            "757\n",
            "758\n",
            "759\n",
            "760\n",
            "761\n",
            "762\n",
            "763\n",
            "764\n",
            "765\n",
            "766\n",
            "767\n",
            "768\n",
            "769\n",
            "770\n",
            "771\n",
            "772\n",
            "773\n",
            "774\n",
            "775\n",
            "776\n",
            "777\n",
            "778\n",
            "779\n",
            "780\n",
            "781\n",
            "782\n",
            "783\n",
            "784\n",
            "785\n",
            "786\n",
            "787\n",
            "788\n",
            "789\n",
            "790\n",
            "791\n",
            "792\n",
            "793\n",
            "794\n",
            "795\n",
            "796\n",
            "797\n",
            "798\n",
            "799\n",
            "800\n",
            "801\n",
            "802\n",
            "803\n",
            "804\n",
            "805\n",
            "806\n",
            "807\n",
            "808\n",
            "809\n",
            "810\n",
            "811\n",
            "812\n",
            "813\n",
            "814\n",
            "815\n",
            "816\n",
            "817\n",
            "818\n",
            "819\n",
            "820\n",
            "821\n",
            "822\n",
            "823\n",
            "824\n",
            "825\n",
            "826\n",
            "827\n",
            "828\n",
            "829\n",
            "830\n",
            "831\n",
            "832\n",
            "833\n",
            "834\n",
            "835\n",
            "836\n",
            "837\n",
            "838\n",
            "839\n",
            "840\n",
            "841\n",
            "842\n",
            "843\n",
            "844\n",
            "845\n",
            "846\n",
            "847\n",
            "848\n",
            "849\n",
            "850\n",
            "851\n",
            "852\n",
            "853\n",
            "854\n",
            "855\n",
            "856\n",
            "857\n",
            "858\n",
            "859\n",
            "860\n",
            "861\n",
            "862\n",
            "863\n",
            "864\n",
            "865\n",
            "866\n",
            "867\n",
            "868\n",
            "869\n",
            "870\n",
            "871\n",
            "872\n",
            "873\n",
            "874\n",
            "875\n",
            "876\n",
            "877\n",
            "878\n",
            "879\n",
            "880\n",
            "881\n",
            "882\n",
            "883\n",
            "884\n",
            "885\n",
            "886\n",
            "887\n",
            "888\n",
            "889\n",
            "890\n",
            "891\n",
            "892\n",
            "893\n",
            "894\n",
            "895\n",
            "896\n",
            "897\n",
            "898\n",
            "899\n",
            "900\n",
            "901\n",
            "902\n",
            "903\n",
            "904\n",
            "905\n",
            "906\n",
            "907\n",
            "908\n",
            "909\n",
            "910\n",
            "911\n",
            "912\n",
            "913\n",
            "914\n",
            "915\n",
            "916\n",
            "917\n",
            "918\n",
            "919\n",
            "920\n",
            "921\n",
            "922\n",
            "923\n",
            "924\n",
            "925\n",
            "926\n",
            "927\n",
            "928\n",
            "929\n",
            "930\n",
            "931\n",
            "932\n",
            "933\n",
            "934\n",
            "935\n",
            "936\n",
            "937\n",
            "938\n",
            "939\n",
            "940\n",
            "941\n",
            "942\n",
            "943\n",
            "944\n",
            "945\n",
            "946\n",
            "947\n",
            "948\n",
            "949\n",
            "950\n",
            "951\n",
            "952\n",
            "953\n",
            "954\n",
            "955\n",
            "956\n",
            "957\n",
            "958\n",
            "959\n",
            "960\n",
            "961\n",
            "962\n",
            "963\n",
            "964\n",
            "965\n",
            "966\n",
            "967\n",
            "968\n",
            "969\n",
            "970\n",
            "971\n",
            "972\n",
            "973\n",
            "974\n",
            "975\n",
            "976\n",
            "977\n",
            "978\n",
            "979\n",
            "980\n",
            "981\n",
            "982\n",
            "983\n",
            "984\n",
            "985\n",
            "986\n",
            "987\n",
            "988\n",
            "989\n",
            "990\n",
            "991\n",
            "992\n",
            "993\n",
            "994\n",
            "995\n",
            "996\n",
            "997\n",
            "998\n",
            "999\n",
            "1000\n",
            "1001\n",
            "1002\n",
            "1003\n",
            "1004\n",
            "1005\n",
            "1006\n",
            "1007\n",
            "1008\n",
            "1009\n",
            "1010\n",
            "1011\n",
            "1012\n",
            "1013\n",
            "1014\n",
            "1015\n",
            "1016\n",
            "1017\n",
            "1018\n",
            "1019\n",
            "1020\n",
            "1021\n",
            "1022\n",
            "1023\n",
            "1024\n",
            "1025\n",
            "1026\n",
            "1027\n",
            "1028\n",
            "1029\n",
            "1030\n",
            "1031\n",
            "1032\n",
            "1033\n",
            "1034\n",
            "1035\n",
            "1036\n",
            "1037\n",
            "1038\n",
            "1039\n",
            "1040\n",
            "1041\n",
            "1042\n",
            "1043\n",
            "1044\n",
            "1045\n",
            "1046\n",
            "1047\n",
            "1048\n",
            "1049\n",
            "1050\n",
            "1051\n",
            "1052\n",
            "1053\n",
            "1054\n",
            "1055\n",
            "1056\n",
            "1057\n",
            "1058\n",
            "1059\n",
            "1060\n",
            "1061\n",
            "1062\n",
            "1063\n",
            "1064\n",
            "1065\n",
            "1066\n",
            "1067\n",
            "1068\n",
            "1069\n",
            "1070\n",
            "1071\n",
            "1072\n",
            "1073\n",
            "1074\n",
            "1075\n",
            "1076\n",
            "1077\n",
            "1078\n",
            "1079\n",
            "1080\n",
            "1081\n",
            "1082\n",
            "1083\n",
            "1084\n",
            "1085\n",
            "1086\n",
            "1087\n",
            "1088\n",
            "1089\n",
            "1090\n",
            "1091\n",
            "1092\n",
            "1093\n",
            "1094\n",
            "1095\n",
            "1096\n",
            "1097\n",
            "1098\n",
            "1099\n",
            "1100\n",
            "1101\n",
            "1102\n",
            "1103\n",
            "1104\n",
            "1105\n",
            "1106\n",
            "1107\n",
            "1108\n",
            "1109\n",
            "1110\n",
            "1111\n",
            "1112\n",
            "1113\n",
            "1114\n",
            "1115\n",
            "1116\n",
            "1117\n",
            "1118\n",
            "1119\n",
            "1120\n",
            "1121\n",
            "1122\n",
            "1123\n",
            "1124\n",
            "1125\n",
            "1126\n",
            "1127\n",
            "1128\n",
            "1129\n",
            "(16649, 256, 256, 3)\n",
            "(16649, 256, 256, 3)\n"
          ],
          "name": "stdout"
        },
        {
          "output_type": "display_data",
          "data": {
            "image/png": "[encoded data removed]",
            "text/plain": [
              "<PIL.Image.Image image mode=RGB size=256x256 at 0x7FBD264B7EF0>"
            ]
          },
          "metadata": {
            "tags": []
          }
        },
        {
          "output_type": "stream",
          "text": [
            "coronal read\n"
          ],
          "name": "stdout"
        }
      ]
    },
    {
      "cell_type": "code",
      "metadata": {
        "id": "V2LFE80rbdPL",
        "colab_type": "code",
        "colab": {}
      },
      "source": [
        "print(coronal[0].shape)\n",
        "cv2_imshow(coronal[0])\n",
        "print(coronal[0])\n",
        "a=coronal[1]"
      ],
      "execution_count": 0,
      "outputs": []
    },
    {
      "cell_type": "markdown",
      "metadata": {
        "id": "vOm_ObJPhbmI",
        "colab_type": "text"
      },
      "source": [
        "#Getting labels"
      ]
    },
    {
      "cell_type": "code",
      "metadata": {
        "id": "8gCSIf9iSYXz",
        "colab_type": "code",
        "colab": {}
      },
      "source": [
        "#OLD FOR ONE LABELS TYPE\n",
        "import pandas as pd\n",
        "import numpy as np\n",
        "# model.compile(loss=keras.losses.categorical_crossentropy, optimizer=\"adam\", metrics=[\"accuracy\"])\n",
        "\n",
        "data1 = pd.read_csv(\"/content/gdrive/My Drive/MRNet Challenge/MRNet-v1.0/train-abnormal.csv\") \n",
        "print(data1.shape)\n",
        "# print(data1.columns)\n",
        "# print(data1['1'])\n",
        "y=np.array(data1[\"1\"])\n",
        "print(\"---------------------------------\")\n",
        "y=np.hstack(('1',y))\n",
        "# print(y)\n",
        "Y_train=[]\n",
        "for i in range(len(sizes)):\n",
        "  for j in range(sizes[i]):\n",
        "    Y_train.append(y[i])\n",
        " \n",
        "Y_train=np.asarray(Y_train)\n",
        "print(Y_train.shape)\n",
        "# print(data1[:][1])\n",
        "# labels=data1[1]\n",
        "# print(labels)\n",
        "Y_train5=np.zeros(shape=(16649,2));\n",
        "for i in range(len(Y_train)):\n",
        "  if Y_train[i] == '1':\n",
        "    Y_train5[i][1]=1\n",
        "  elif Y_train[i] == '0':\n",
        "    Y_train5[i][0]=1\n",
        "print(Y_train5)"
      ],
      "execution_count": 0,
      "outputs": []
    },
    {
      "cell_type": "code",
      "metadata": {
        "id": "f0XVRQtk3Bcr",
        "colab_type": "code",
        "outputId": "d6fdb238-d842-4166-c555-4122952780e9",
        "colab": {
          "base_uri": "https://localhost:8080/",
          "height": 85
        }
      },
      "source": [
        "#ALL LABELS 1 ( RUN ALL 3 CELLS )\n",
        "import pandas as pd\n",
        "import numpy as np\n",
        "# model.compile(loss=keras.losses.categorical_crossentropy, optimizer=\"adam\", metrics=[\"accuracy\"])\n",
        "\n",
        "data1 = pd.read_csv(\"/content/gdrive/My Drive/MRNet Challenge/MRNet-v1.0/train-abnormal.csv\") \n",
        "data2 = pd.read_csv(\"/content/gdrive/My Drive/MRNet Challenge/MRNet-v1.0/train-acl.csv\") \n",
        "data3 = pd.read_csv(\"/content/gdrive/My Drive/MRNet Challenge/MRNet-v1.0/train-meniscus.csv\") \n",
        "print(data1.shape)\n",
        "print(data2.shape)\n",
        "print(data3.shape)\n",
        "# print(data1.columns)\n",
        "# print(data1['1'])\n",
        "y1=np.array(data1[\"1\"])\n",
        "y2=np.array(data2[\"0\"])\n",
        "y3=np.array(data3[\"0\"])\n",
        "print(\"---------------------------------\")\n"
      ],
      "execution_count": 0,
      "outputs": [
        {
          "output_type": "stream",
          "text": [
            "(1129, 2)\n",
            "(1129, 2)\n",
            "(1129, 2)\n",
            "---------------------------------\n"
          ],
          "name": "stdout"
        }
      ]
    },
    {
      "cell_type": "code",
      "metadata": {
        "id": "G-ok527OS3sf",
        "colab_type": "code",
        "outputId": "e0804ca6-386b-4a09-9267-97ba57dfd33d",
        "colab": {
          "base_uri": "https://localhost:8080/",
          "height": 34
        }
      },
      "source": [
        "print(np.sum(sizes))"
      ],
      "execution_count": 0,
      "outputs": [
        {
          "output_type": "stream",
          "text": [
            "16649\n"
          ],
          "name": "stdout"
        }
      ]
    },
    {
      "cell_type": "code",
      "metadata": {
        "id": "G1tVhSEhBAHO",
        "colab_type": "code",
        "outputId": "1be75574-d86c-4ed7-a5e0-88bbbdfed9fa",
        "colab": {
          "base_uri": "https://localhost:8080/",
          "height": 119
        }
      },
      "source": [
        "#ALL LABELS 2\n",
        "y1=np.hstack(('1',y1))\n",
        "y2=np.hstack(('0',y2))\n",
        "y3=np.hstack(('0',y3))\n",
        "# print(y)\n",
        "print(y1);print(y2);print(y3)\n",
        "Y_train1=[]\n",
        "Y_train2=[]\n",
        "Y_train3=[]\n",
        "for i in range(len(sizes)):\n",
        "  for j in range(sizes[i]):\n",
        "    Y_train1.append(y1[i])\n",
        "    Y_train2.append(y2[i])\n",
        "    Y_train3.append(y3[i])\n",
        " \n",
        "Y_train1=np.asarray(Y_train1)\n",
        "Y_train2=np.asarray(Y_train2)\n",
        "Y_train3=np.asarray(Y_train3)\n",
        "print(Y_train1.shape);print(Y_train2.shape);print(Y_train3.shape)\n",
        "# print(data1[:][1])\n",
        "# labels=data1[1]\n",
        "# print(labels)\n",
        "\n"
      ],
      "execution_count": 0,
      "outputs": [
        {
          "output_type": "stream",
          "text": [
            "['1' '1' '1' ... '0' '1' '1']\n",
            "['0' '1' '0' ... '0' '0' '1']\n",
            "['0' '1' '0' ... '0' '0' '0']\n",
            "(16649,)\n",
            "(16649,)\n",
            "(16649,)\n"
          ],
          "name": "stdout"
        }
      ]
    },
    {
      "cell_type": "code",
      "metadata": {
        "id": "MIyyn1H0IE6c",
        "colab_type": "code",
        "outputId": "4eb264ce-0ca7-4fd0-d140-12b8f36a8b46",
        "colab": {
          "base_uri": "https://localhost:8080/",
          "height": 68
        }
      },
      "source": [
        "print(Y_train1)\n",
        "print(Y_train2)\n",
        "print(Y_train3)"
      ],
      "execution_count": 0,
      "outputs": [
        {
          "output_type": "stream",
          "text": [
            "['1' '1' '1' ... '1' '1' '1']\n",
            "['0' '0' '0' ... '1' '1' '1']\n",
            "['0' '0' '0' ... '0' '0' '0']\n"
          ],
          "name": "stdout"
        }
      ]
    },
    {
      "cell_type": "code",
      "metadata": {
        "id": "JcalH4-Rt6BC",
        "colab_type": "code",
        "outputId": "2dc0f9b0-d8d4-427f-ea93-019d17207df1",
        "colab": {
          "base_uri": "https://localhost:8080/",
          "height": 136
        }
      },
      "source": [
        "#ALL LABELS 3\n",
        "#Convert labels into 2 columns\n",
        "Y_train_1=np.zeros(shape=(len(Y_train1),2));Y_train_2=np.zeros(shape=(len(Y_train2),2));Y_train_3=np.zeros(shape=(len(Y_train3),2))\n",
        "for i in range(len(Y_train1)):\n",
        "  if Y_train1[i] == '1':\n",
        "    Y_train_1[i][1]=1\n",
        "  elif Y_train1[i] == '0':\n",
        "    Y_train_1[i][0]=1\n",
        "  if Y_train2[i] == '1':\n",
        "    Y_train_2[i][1]=1\n",
        "  elif Y_train2[i] == '0':\n",
        "    Y_train_2[i][0]=1\n",
        "  if Y_train3[i] == '1':\n",
        "    Y_train_3[i][1]=1\n",
        "  elif Y_train3[i] == '0':\n",
        "    Y_train_3[i][0]=1\n",
        "#Y_train\n",
        "Y_train_3"
      ],
      "execution_count": 0,
      "outputs": [
        {
          "output_type": "execute_result",
          "data": {
            "text/plain": [
              "array([[1., 0.],\n",
              "       [1., 0.],\n",
              "       [1., 0.],\n",
              "       ...,\n",
              "       [1., 0.],\n",
              "       [1., 0.],\n",
              "       [1., 0.]])"
            ]
          },
          "metadata": {
            "tags": []
          },
          "execution_count": 5
        }
      ]
    },
    {
      "cell_type": "code",
      "metadata": {
        "id": "Mf7CAOxLZJ44",
        "colab_type": "code",
        "outputId": "2d3f65ea-74d1-4cfc-baff-ea90abefad4e",
        "colab": {
          "base_uri": "https://localhost:8080/",
          "height": 68
        }
      },
      "source": [
        "print(Y_train_1.shape)\n",
        "print(Y_train_2.shape)\n",
        "print(Y_train_3.shape)"
      ],
      "execution_count": 0,
      "outputs": [
        {
          "output_type": "stream",
          "text": [
            "(16649, 2)\n",
            "(16649, 2)\n",
            "(16649, 2)\n"
          ],
          "name": "stdout"
        }
      ]
    },
    {
      "cell_type": "code",
      "metadata": {
        "id": "_QAynjXn5bp4",
        "colab_type": "code",
        "outputId": "fd3c5684-a9b9-459d-ee6f-e15d4e8f1270",
        "colab": {
          "base_uri": "https://localhost:8080/",
          "height": 51
        }
      },
      "source": [
        "# IGNORE IT \n",
        "#print(Y_train2)\n",
        "ones =0\n",
        "zer =0\n",
        "for j in range(2):\n",
        "  ones =0;zer=0;\n",
        "  for i in range(len(Y_train_3)):\n",
        "  \n",
        "    if Y_train_3[i][j] == 1:\n",
        "        ones+=1\n",
        "    else:\n",
        "        zer+=1\n",
        "  print(ones,\" \",zer)  \n"
      ],
      "execution_count": 0,
      "outputs": [
        {
          "output_type": "stream",
          "text": [
            "10817   5832\n",
            "5832   10817\n"
          ],
          "name": "stdout"
        }
      ]
    },
    {
      "cell_type": "markdown",
      "metadata": {
        "id": "f7P92u5Fhq1o",
        "colab_type": "text"
      },
      "source": [
        "# Start training"
      ]
    },
    {
      "cell_type": "code",
      "metadata": {
        "id": "iQ6ZSKOL3fHi",
        "colab_type": "code",
        "colab": {}
      },
      "source": [
        "filepath=\"/content/gdrive/My Drive/MRNet Challenge/MRNet Weights\"\n",
        "X_train=np.array(coronal[0])\n",
        "j=10000;\n",
        "for i in range(len(coronal)):\n",
        "#   print(len(coronal[i]))\n",
        "  if len(coronal[i])<j:\n",
        "    j=len(coronal[i])\n",
        "    print(j)\n",
        "#    print(len(coronal[i]))\n",
        "# history=model.fit(X_train,\n",
        "#     Y_train,\n",
        "#     batch_size=1024,\n",
        "#     epochs=100,\n",
        "#     verbose=2,\n",
        "#      validation_split=0.05,\n",
        "#     callbacks = [\n",
        "#         keras.callbacks.ModelCheckpoint(filepath, monitor='val_loss', verbose=0, save_best_only=True, mode='auto'),\n",
        "#         keras.callbacks.EarlyStopping(monitor='val_loss', patience=5, verbose=0, mode='auto')\n",
        "#     ])\n",
        "# we re-load the best weights once training is finished\n",
        "# model.load_weights(filepath)"
      ],
      "execution_count": 0,
      "outputs": []
    },
    {
      "cell_type": "code",
      "metadata": {
        "id": "TlyViPRBBVjW",
        "colab_type": "code",
        "colab": {}
      },
      "source": [
        "keras.applications.xception.Xception(include_top=True, weights='imagenet', input_tensor=None, input_shape=None, pooling=None, classes=1000)\n"
      ],
      "execution_count": 0,
      "outputs": []
    },
    {
      "cell_type": "markdown",
      "metadata": {
        "id": "DuWUfkroBaSd",
        "colab_type": "text"
      },
      "source": [
        "** until now the first problem that the every video doesn't have the same number of frames , the first solution is to take the minimum number of frames and neglect the rest **"
      ]
    },
    {
      "cell_type": "markdown",
      "metadata": {
        "id": "X1gCM_2NnEMI",
        "colab_type": "text"
      },
      "source": [
        "# ResNet50"
      ]
    },
    {
      "cell_type": "code",
      "metadata": {
        "id": "rZdUGAPanFzC",
        "colab_type": "code",
        "outputId": "ad9f45da-881d-4e8b-fa8b-cd6d0034de1a",
        "colab": {
          "base_uri": "https://localhost:8080/",
          "height": 34
        }
      },
      "source": [
        "#Imports\n",
        "import pandas as pd\n",
        "import numpy as np \n",
        "import matplotlib.pyplot as plt\n",
        "import os\n",
        "from urllib.request import urlopen,urlretrieve\n",
        "from PIL import Image\n",
        "from tqdm import tqdm_notebook\n",
        "%matplotlib inline\n",
        "from sklearn.utils import shuffle\n",
        "import cv2\n",
        "\n",
        "from keras.models import load_model\n",
        "from sklearn.datasets import load_files   \n",
        "from keras.utils import np_utils\n",
        "from glob import glob\n",
        "from keras import applications\n",
        "from keras.preprocessing.image import ImageDataGenerator \n",
        "from keras import optimizers\n",
        "from keras.models import Sequential,Model,load_model\n",
        "from keras.layers import Dense, Dropout, Flatten, Conv2D, MaxPool2D,GlobalAveragePooling2D\n",
        "from keras.callbacks import TensorBoard,ReduceLROnPlateau,ModelCheckpoint"
      ],
      "execution_count": 0,
      "outputs": [
        {
          "output_type": "stream",
          "text": [
            "Using TensorFlow backend.\n"
          ],
          "name": "stderr"
        }
      ]
    },
    {
      "cell_type": "markdown",
      "metadata": {
        "id": "EyX8bybaSxmD",
        "colab_type": "text"
      },
      "source": [
        "# With ImageNet Weights"
      ]
    },
    {
      "cell_type": "code",
      "metadata": {
        "id": "Pk5Twi4WnLGB",
        "colab_type": "code",
        "outputId": "d8ad3ebe-03f6-422f-9cea-1ab6d65a3557",
        "colab": {
          "base_uri": "https://localhost:8080/",
          "height": 51
        }
      },
      "source": [
        "#Pretrained model\n",
        "img_height,img_width = 256,256 \n",
        "num_classes = 2\n",
        "#If imagenet weights are being loaded, \n",
        "#input must have a static square shape (one of (128, 128), (160, 160), (192, 192), or (224, 224))\n",
        "WEIGHTS_PATH_NO_TOP = 'https://github.com/fchollet/deep-learning-models/releases/download/v0.2/resnet50_weights_tf_dim_ordering_tf_kernels_notop.h5'\n",
        "weights_path = get_file('resnet50_weights_tf_dim_ordering_tf_kernels_notop.h5', WEIGHTS_PATH_NO_TOP, cache_subdir='models', md5_hash='a268eb855778b3df3c7506639542a6af')\n",
        "base_model = applications.resnet50.ResNet50(weights= 'imagenet', include_top=False, input_shape= (img_height,img_width,3))\n",
        "\n",
        "x = base_model.output\n",
        "x = GlobalAveragePooling2D()(x)\n",
        "x = Dropout(0.7)(x)\n",
        "predictions = Dense(num_classes, activation= 'softmax')(x)\n",
        "model2 = Model(inputs = base_model.input, outputs = predictions)\n",
        "#model2.load_weights(weights_path,by_name=True)\n",
        "from keras.optimizers import SGD, Adam\n",
        "# sgd = SGD(lr=lrate, momentum=0.9, decay=decay, nesterov=False)\n",
        "adam = Adam(lr=0.0001)\n",
        "model2.compile(optimizer= adam, loss='binary_crossentropy', metrics=['accuracy'])\n"
      ],
      "execution_count": 0,
      "outputs": [
        {
          "output_type": "stream",
          "text": [
            "/usr/local/lib/python3.6/dist-packages/keras_applications/resnet50.py:265: UserWarning: The output shape of `ResNet50(include_top=False)` has been changed since Keras 2.2.0.\n",
            "  warnings.warn('The output shape of `ResNet50(include_top=False)` '\n"
          ],
          "name": "stderr"
        }
      ]
    },
    {
      "cell_type": "code",
      "metadata": {
        "id": "KInBhz_QnXV8",
        "colab_type": "code",
        "outputId": "df8114e0-b785-4478-db0f-980bc7723ccd",
        "colab": {
          "base_uri": "https://localhost:8080/",
          "height": 204
        }
      },
      "source": [
        "#Fitting data\n",
        "\n",
        "#1st - Coronal with Abnormal labels\n",
        "#images = np.reshape(coronal,(len(coronal),256,256,3))\n",
        "model2.fit(coronal, Y_train2, epochs = 5, batch_size = 64)"
      ],
      "execution_count": 0,
      "outputs": [
        {
          "output_type": "stream",
          "text": [
            "Epoch 1/5\n",
            "16649/16649 [==============================] - 277s 17ms/step - loss: 0.5368 - acc: 0.7890\n",
            "Epoch 2/5\n",
            "16649/16649 [==============================] - 230s 14ms/step - loss: 0.3728 - acc: 0.8420\n",
            "Epoch 3/5\n",
            "16649/16649 [==============================] - 230s 14ms/step - loss: 0.1915 - acc: 0.9239\n",
            "Epoch 4/5\n",
            "16649/16649 [==============================] - 230s 14ms/step - loss: 0.0932 - acc: 0.9646\n",
            "Epoch 5/5\n",
            "16649/16649 [==============================] - 230s 14ms/step - loss: 0.0660 - acc: 0.9757\n"
          ],
          "name": "stdout"
        },
        {
          "output_type": "execute_result",
          "data": {
            "text/plain": [
              "<keras.callbacks.History at 0x7efcc410c128>"
            ]
          },
          "metadata": {
            "tags": []
          },
          "execution_count": 123
        }
      ]
    },
    {
      "cell_type": "markdown",
      "metadata": {
        "id": "PE2rMK18SgLY",
        "colab_type": "text"
      },
      "source": [
        "# Trying without loading ImageNet Weights"
      ]
    },
    {
      "cell_type": "code",
      "metadata": {
        "id": "zNQF6YAwSjMm",
        "colab_type": "code",
        "outputId": "352fe062-e098-4dd2-8252-4db8d0301d60",
        "colab": {
          "base_uri": "https://localhost:8080/",
          "height": 51
        }
      },
      "source": [
        "#Pretrained model\n",
        "img_height,img_width = 256,256 \n",
        "num_classes = 2\n",
        "#WEIGHTS_PATH_NO_TOP = 'https://github.com/fchollet/deep-learning-models/releases/download/v0.2/resnet50_weights_tf_dim_ordering_tf_kernels_notop.h5'\n",
        "#weights_path = get_file('resnet50_weights_tf_dim_ordering_tf_kernels_notop.h5', WEIGHTS_PATH_NO_TOP, cache_subdir='models', md5_hash='a268eb855778b3df3c7506639542a6af')\n",
        "#If imagenet weights are being loaded, \n",
        "#input must have a static square shape (one of (128, 128), (160, 160), (192, 192), or (224, 224))\n",
        "base_model = applications.resnet50.ResNet50(weights=None, include_top=False, input_shape= (img_height,img_width,3))\n",
        "\n",
        "x = base_model.output\n",
        "x = GlobalAveragePooling2D()(x)\n",
        "x = Dropout(0.4)(x)\n",
        "predictions = Dense(num_classes, activation= 'softmax')(x)\n",
        "model3 = Model(inputs = base_model.input, outputs = predictions)\n",
        "#model3.load_weights(weights_path,by_name=True)\n",
        "from keras.optimizers import SGD, Adam\n",
        "# sgd = SGD(lr=lrate, momentum=0.9, decay=decay, nesterov=False)\n",
        "adam = Adam(lr=0.0001)\n",
        "model3.compile(optimizer=adam, loss='categorical_crossentropy', metrics=['accuracy'])"
      ],
      "execution_count": 0,
      "outputs": [
        {
          "output_type": "stream",
          "text": [
            "/usr/local/lib/python3.6/dist-packages/keras_applications/resnet50.py:265: UserWarning: The output shape of `ResNet50(include_top=False)` has been changed since Keras 2.2.0.\n",
            "  warnings.warn('The output shape of `ResNet50(include_top=False)` '\n"
          ],
          "name": "stderr"
        }
      ]
    },
    {
      "cell_type": "code",
      "metadata": {
        "id": "BLcJWJqabcY2",
        "colab_type": "code",
        "colab": {}
      },
      "source": [
        ""
      ],
      "execution_count": 0,
      "outputs": []
    },
    {
      "cell_type": "code",
      "metadata": {
        "id": "cVnQqHjvSsa6",
        "colab_type": "code",
        "outputId": "c26811f7-2ac4-4c56-bd09-2bf54042a917",
        "colab": {
          "base_uri": "https://localhost:8080/",
          "height": 204
        }
      },
      "source": [
        "#1st - Coronal with Abnormal labels\n",
        "#images = np.reshape(coronal,(len(coronal),256,256,3))\n",
        "model3.fit(coronal, Y_train2, epochs = 5, batch_size = 64)\n",
        "#model3.train_on_batch"
      ],
      "execution_count": 0,
      "outputs": [
        {
          "output_type": "stream",
          "text": [
            "Epoch 1/5\n",
            "16649/16649 [==============================] - 274s 16ms/step - loss: 0.4927 - acc: 0.7968\n",
            "Epoch 2/5\n",
            "16649/16649 [==============================] - 231s 14ms/step - loss: 0.2537 - acc: 0.8960\n",
            "Epoch 3/5\n",
            "16649/16649 [==============================] - 231s 14ms/step - loss: 0.1148 - acc: 0.9572\n",
            "Epoch 4/5\n",
            "16649/16649 [==============================] - 230s 14ms/step - loss: 0.0513 - acc: 0.9823\n",
            "Epoch 5/5\n",
            "16649/16649 [==============================] - 230s 14ms/step - loss: 0.0363 - acc: 0.9876\n"
          ],
          "name": "stdout"
        },
        {
          "output_type": "execute_result",
          "data": {
            "text/plain": [
              "<keras.callbacks.History at 0x7efcbe1c7978>"
            ]
          },
          "metadata": {
            "tags": []
          },
          "execution_count": 121
        }
      ]
    },
    {
      "cell_type": "markdown",
      "metadata": {
        "id": "ObyUwLrgqI4i",
        "colab_type": "text"
      },
      "source": [
        "# New ResNet Implemented from scratch"
      ]
    },
    {
      "cell_type": "code",
      "metadata": {
        "id": "w46jAEx3qNs_",
        "colab_type": "code",
        "outputId": "0fd02040-96e3-4310-ac49-e7cbed59b233",
        "colab": {
          "base_uri": "https://localhost:8080/",
          "height": 34
        }
      },
      "source": [
        "# You will learn how to build very deep convolutional networks, using Residual Networks (ResNets)\n",
        "# In theory, very deep networks can represent very complex functions; but in practice, they are hard to train. Residual Networks, introduced by He et al., allow you to train much deeper networks than were previously practically feasible.\n",
        "\n",
        "# Let's import packages\n",
        "import numpy as np\n",
        "from keras import layers\n",
        "from keras.layers import Input, Add, Dense, Activation, ZeroPadding2D, BatchNormalization, Flatten, Conv2D, AveragePooling2D, MaxPooling2D, GlobalMaxPooling2D\n",
        "from keras.models import Model, load_model\n",
        "from keras.preprocessing import image\n",
        "from keras.utils import layer_utils\n",
        "from keras.utils.data_utils import get_file\n",
        "from keras.applications.imagenet_utils import preprocess_input\n",
        "import pydot\n",
        "from IPython.display import SVG\n",
        "from keras.utils.vis_utils import model_to_dot\n",
        "from keras.utils import plot_model\n",
        "#from resnets_utils import *\n",
        "from keras.initializers import glorot_uniform\n",
        "import scipy.misc\n",
        "from matplotlib.pyplot import imshow\n",
        "%matplotlib inline\n",
        "\n",
        "import keras.backend as K\n",
        "K.set_image_data_format('channels_last')\n",
        "K.set_learning_phase(1)\n",
        "\n",
        "# Identity block\n",
        "\n",
        "def identity_block(X, f, filters, stage, block):\n",
        "    \"\"\"\n",
        "    Implementation of the identity block as defined in Figure 3\n",
        "    \n",
        "    Arguments:\n",
        "    X -- input tensor of shape (m, n_H_prev, n_W_prev, n_C_prev)\n",
        "    f -- integer, specifying the shape of the middle CONV's window for the main path\n",
        "    filters -- python list of integers, defining the number of filters in the CONV layers of the main path\n",
        "    stage -- integer, used to name the layers, depending on their position in the network\n",
        "    block -- string/character, used to name the layers, depending on their position in the network\n",
        "    \n",
        "    Returns:\n",
        "    X -- output of the identity block, tensor of shape (n_H, n_W, n_C)\n",
        "    \"\"\"\n",
        "    \n",
        "    # defining name basis\n",
        "    conv_name_base = 'res' + str(stage) + block + '_branch'\n",
        "    bn_name_base = 'bn' + str(stage) + block + '_branch'\n",
        "    \n",
        "    # Retrieve Filters\n",
        "    F1, F2, F3 = filters\n",
        "    \n",
        "    # Save the input value. You'll need this later to add back to the main path. \n",
        "    X_shortcut = X\n",
        "    \n",
        "    # First component of main path\n",
        "    X = Conv2D(filters = F1, kernel_size = (1, 1), strides = (1,1), padding = 'valid', name = conv_name_base + '2a', kernel_initializer = glorot_uniform(seed=0))(X)\n",
        "    X = BatchNormalization(axis = 3, name = bn_name_base + '2a')(X)\n",
        "    X = Activation('relu')(X)\n",
        "    \n",
        "    \n",
        "    # Second component of main path \n",
        "    X = Conv2D(filters = F2, kernel_size=(f,f), strides = (1,1), padding='same', name = conv_name_base + '2b', kernel_initializer = glorot_uniform(seed=0))(X)\n",
        "    X = BatchNormalization(axis=3, name = bn_name_base + '2b')(X)\n",
        "    X = Activation('relu')(X)\n",
        "\n",
        "    # Third component of main path \n",
        "    X = Conv2D(filters = F3, kernel_size=(1,1), strides = (1,1), padding=\"valid\", name = conv_name_base + '2c', kernel_initializer = glorot_uniform(seed=0))(X)\n",
        "    X = BatchNormalization(axis=3, name=bn_name_base + '2c')(X)\n",
        "\n",
        "    # Final step: Add shortcut value to main path, and pass it through a RELU activation \n",
        "    X = Add()([X,X_shortcut])\n",
        "    X = Activation('relu')(X)\n",
        "    \n",
        "    \n",
        "    return X"
      ],
      "execution_count": 0,
      "outputs": [
        {
          "output_type": "stream",
          "text": [
            "Using TensorFlow backend.\n"
          ],
          "name": "stderr"
        }
      ]
    },
    {
      "cell_type": "code",
      "metadata": {
        "id": "0pvMT4xSsS4h",
        "colab_type": "code",
        "colab": {}
      },
      "source": [
        "# The convolutional block\n",
        "# GRADED FUNCTION: convolutional_block\n",
        "\n",
        "def convolutional_block(X, f, filters, stage, block, s = 2):\n",
        "    \"\"\"\n",
        "    Implementation of the convolutional block as defined in Figure 4\n",
        "    \n",
        "    Arguments:\n",
        "    X -- input tensor of shape (m, n_H_prev, n_W_prev, n_C_prev)\n",
        "    f -- integer, specifying the shape of the middle CONV's window for the main path\n",
        "    filters -- python list of integers, defining the number of filters in the CONV layers of the main path\n",
        "    stage -- integer, used to name the layers, depending on their position in the network\n",
        "    block -- string/character, used to name the layers, depending on their position in the network\n",
        "    s -- Integer, specifying the stride to be used\n",
        "    \n",
        "    Returns:\n",
        "    X -- output of the convolutional block, tensor of shape (n_H, n_W, n_C)\n",
        "    \"\"\"\n",
        "    \n",
        "    # defining name basis\n",
        "    conv_name_base = 'res' + str(stage) + block + '_branch'\n",
        "    bn_name_base = 'bn' + str(stage) + block + '_branch'\n",
        "    \n",
        "    # Retrieve Filters\n",
        "    F1, F2, F3 = filters\n",
        "    \n",
        "    # Save the input value\n",
        "    X_shortcut = X\n",
        "\n",
        "\n",
        "    ##### MAIN PATH #####\n",
        "    # First component of main path \n",
        "    X = Conv2D(filters = F1, kernel_size= (1, 1), strides = (s,s),padding=\"valid\", name = conv_name_base + '2a', kernel_initializer = glorot_uniform(seed=0))(X)\n",
        "    X = BatchNormalization(axis = 3, name = bn_name_base + '2a')(X)\n",
        "    X = Activation('relu')(X)\n",
        "    \n",
        "\n",
        "    # Second component of main path \n",
        "    X = Conv2D(filters = F2, kernel_size=(f,f), strides=(1,1), name = conv_name_base + '2b', padding=\"same\",kernel_initializer = glorot_uniform(seed=0))(X)\n",
        "    X = BatchNormalization(axis = 3, name= bn_name_base + '2b')(X)\n",
        "    X = Activation('relu')(X)\n",
        "\n",
        "    # Third component of main path \n",
        "    X = Conv2D(filters = F3, kernel_size=(1,1), strides = (1,1), name= conv_name_base + '2c',padding=\"valid\", kernel_initializer=glorot_uniform(seed=0))(X)\n",
        "    X = BatchNormalization(axis=3, name=bn_name_base + '2c')(X)\n",
        "\n",
        "    ##### SHORTCUT PATH #### \n",
        "    X_shortcut = Conv2D(filters = F3, kernel_size= (1,1), strides=(s,s), name=conv_name_base + '1', padding=\"valid\", kernel_initializer=glorot_uniform(seed=0))(X_shortcut)\n",
        "    X_shortcut = BatchNormalization(axis=3, name=bn_name_base+'1')(X_shortcut)\n",
        "\n",
        "    # Final step: Add shortcut value to main path, and pass it through a RELU activation \n",
        "    X = Add()([X_shortcut,X])\n",
        "    X = Activation(\"relu\")(X)\n",
        "    \n",
        "    \n",
        "    return X"
      ],
      "execution_count": 0,
      "outputs": []
    },
    {
      "cell_type": "code",
      "metadata": {
        "id": "39uOkLs4stJn",
        "colab_type": "code",
        "colab": {}
      },
      "source": [
        "# ResNet 50\n",
        "\n",
        "def ResNet50(input_shape = (256, 256, 3), classes = 2):\n",
        "    \"\"\"\n",
        "    Implementation of the popular ResNet50 the following architecture:\n",
        "    CONV2D -> BATCHNORM -> RELU -> MAXPOOL -> CONVBLOCK -> IDBLOCK*2 -> CONVBLOCK -> IDBLOCK*3\n",
        "    -> CONVBLOCK -> IDBLOCK*5 -> CONVBLOCK -> IDBLOCK*2 -> AVGPOOL -> TOPLAYER\n",
        "    Arguments:\n",
        "    input_shape -- shape of the images of the dataset\n",
        "    classes -- integer, number of classes\n",
        "    Returns:\n",
        "    model -- a Model() instance in Keras\n",
        "    \"\"\"\n",
        "    \n",
        "    # Define the input as a tensor with shape input_shape\n",
        "    X_input = Input(input_shape)\n",
        "\n",
        "    \n",
        "    # Zero-Padding\n",
        "    X = ZeroPadding2D((3, 3))(X_input)\n",
        "    \n",
        "    # Stage 1\n",
        "    X = Conv2D(256, (7, 7), strides = (2, 2), name = 'conv1', kernel_initializer = glorot_uniform(seed=0))(X)\n",
        "    X = BatchNormalization(axis = 3, name = 'bn_conv1')(X)\n",
        "    X = Activation('relu')(X)\n",
        "    X = MaxPooling2D((3, 3), strides=(2, 2))(X)\n",
        "\n",
        "    # Stage 2\n",
        "    X = convolutional_block(X, f = 3, filters = [64, 64, 256], stage = 2, block='a', s = 1)\n",
        "    X = identity_block(X, 3, [64, 64, 256], stage=2, block='b')\n",
        "    X = identity_block(X, 3, [64, 64, 256], stage=2, block='c')\n",
        "\n",
        "\n",
        "    # Stage 3\n",
        "    X = convolutional_block(X, f=3, filters = [128,128,512], stage = 3, block='a', s=2)\n",
        "    X = identity_block(X, 3, filters = [128,128,512],stage=3, block='b')\n",
        "    X = identity_block(X, 3, filters = [128,128,512], stage=3, block='c')\n",
        "    X = identity_block(X, 3, filters = [128,128,512], stage =3, block='d')\n",
        "\n",
        "    # Stage 4 \n",
        "    X = convolutional_block(X, f=3, filters = [256,256,1024],stage=4, block='a', s=2)\n",
        "    X = identity_block(X, 3, filters = [256,256,1024], stage=4, block='b')\n",
        "    X = identity_block(X, 3, filters = [256, 256, 1024], stage=4, block='c')\n",
        "    X = identity_block(X, 3, filters= [256,256,1024], stage=4, block='d')\n",
        "    X = identity_block(X, 3, filters=[256,256,1024], stage=4, block='e')\n",
        "    X = identity_block(X, 3, filters=[256,256,1024], stage=4, block='f')\n",
        "\n",
        "    # Stage 5 \n",
        "    X = convolutional_block(X, f=3, filters=[256,256,2048], stage=5,block='a', s=3)\n",
        "    X = identity_block(X, 3, filters=[256,256,2048], stage=5, block='b')\n",
        "    X = identity_block(X,3, filters=[256,256,2048], stage=5, block='c')\n",
        "\n",
        "    # AVGPOOL (≈1 line). Use \"X = AveragePooling2D(...)(X)\"\n",
        "    X = AveragePooling2D((2,2), name='avg_pool')(X)\n",
        "    \n",
        "\n",
        "    # output layer\n",
        "    X = Flatten()(X)\n",
        "    X = Dense(classes, activation='softmax', name='fc' + str(classes), kernel_initializer = glorot_uniform(seed=0))(X)\n",
        "    \n",
        "    \n",
        "    # Create model\n",
        "    model = Model(inputs = X_input, outputs = X, name='ResNet50')\n",
        "    #WEIGHTS_PATH_NO_TOP = 'https://github.com/fchollet/deep-learning-models/releases/download/v0.2/resnet50_weights_tf_dim_ordering_tf_kernels_notop.h5'\n",
        "    #weights_path = get_file('resnet50_weights_tf_dim_ordering_tf_kernels_notop.h5', WEIGHTS_PATH_NO_TOP, cache_subdir='models', md5_hash='a268eb855778b3df3c7506639542a6af')\n",
        "    #model.load_weights()\n",
        "    #model.load_weights(weights_path,by_name=True)\n",
        "    \n",
        "\n",
        "    return model"
      ],
      "execution_count": 0,
      "outputs": []
    },
    {
      "cell_type": "code",
      "metadata": {
        "id": "XHQakmVdsx-T",
        "colab_type": "code",
        "outputId": "09670e94-55e2-4487-eff1-b105243ba0b9",
        "colab": {
          "base_uri": "https://localhost:8080/",
          "height": 88
        }
      },
      "source": [
        "# Run the following code to build the model's graph. If your implementation is not correct you will know it by checking your accuracy when running model.fit(...) below.\n",
        "model = ResNet50(input_shape = (256, 256, 3), classes = 2)\n",
        "model.compile(optimizer='adam', loss='binary_crossentropy', metrics=['accuracy'])"
      ],
      "execution_count": 0,
      "outputs": [
        {
          "output_type": "stream",
          "text": [
            "WARNING:tensorflow:From /usr/local/lib/python3.6/dist-packages/tensorflow/python/framework/op_def_library.py:263: colocate_with (from tensorflow.python.framework.ops) is deprecated and will be removed in a future version.\n",
            "Instructions for updating:\n",
            "Colocations handled automatically by placer.\n"
          ],
          "name": "stdout"
        }
      ]
    },
    {
      "cell_type": "code",
      "metadata": {
        "id": "ysDRaG_3tFga",
        "colab_type": "code",
        "outputId": "a6b03992-09f7-42f8-f895-27beeda4fe74",
        "colab": {
          "base_uri": "https://localhost:8080/",
          "height": 275
        }
      },
      "source": [
        "model.fit(coronal, Y_train5, epochs = 5, batch_size = 32)"
      ],
      "execution_count": 0,
      "outputs": [
        {
          "output_type": "stream",
          "text": [
            "WARNING:tensorflow:From /usr/local/lib/python3.6/dist-packages/tensorflow/python/ops/math_ops.py:3066: to_int32 (from tensorflow.python.ops.math_ops) is deprecated and will be removed in a future version.\n",
            "Instructions for updating:\n",
            "Use tf.cast instead.\n",
            "Epoch 1/5\n",
            "16649/16649 [==============================] - 259s 16ms/step - loss: 3.0358 - acc: 0.8100\n",
            "Epoch 2/5\n",
            "16649/16649 [==============================] - 244s 15ms/step - loss: 3.0397 - acc: 0.8104\n",
            "Epoch 3/5\n",
            "16649/16649 [==============================] - 244s 15ms/step - loss: 3.0397 - acc: 0.8104\n",
            "Epoch 4/5\n",
            "16649/16649 [==============================] - 244s 15ms/step - loss: 3.0397 - acc: 0.8104\n",
            "Epoch 5/5\n",
            "16649/16649 [==============================] - 244s 15ms/step - loss: 3.0397 - acc: 0.8104\n"
          ],
          "name": "stdout"
        },
        {
          "output_type": "execute_result",
          "data": {
            "text/plain": [
              "<keras.callbacks.History at 0x7f51687879b0>"
            ]
          },
          "metadata": {
            "tags": []
          },
          "execution_count": 12
        }
      ]
    },
    {
      "cell_type": "code",
      "metadata": {
        "id": "6VZVtv0NttSF",
        "colab_type": "code",
        "outputId": "0041ba74-ce39-476b-cd83-fcb4dce8905d",
        "colab": {
          "base_uri": "https://localhost:8080/",
          "height": 34
        }
      },
      "source": [
        "np.shape(Y_train)"
      ],
      "execution_count": 0,
      "outputs": [
        {
          "output_type": "execute_result",
          "data": {
            "text/plain": [
              "(16649,)"
            ]
          },
          "metadata": {
            "tags": []
          },
          "execution_count": 20
        }
      ]
    },
    {
      "cell_type": "markdown",
      "metadata": {
        "id": "8R-bvrPSyZuR",
        "colab_type": "text"
      },
      "source": [
        "# Evaluate"
      ]
    },
    {
      "cell_type": "code",
      "metadata": {
        "id": "HNOAgO8CycyR",
        "colab_type": "code",
        "colab": {}
      },
      "source": [
        "#Prepare the test set\n",
        "paths =[ \"/content/gdrive/My Drive/MRNet Challenge/MRNet-v1.0/valid/coronal/\"\n",
        "        ,\"/content/gdrive/My Drive/MRNet Challenge/MRNet-v1.0/valid/axial/\",\"/content/gdrive/My Drive/MRNet Challenge/MRNet-v1.0/valid/sagittal/\"]\n",
        "all_data2 = []\n",
        "for path in paths:\n",
        "  directory=[]\n",
        "  for r, d, f in os.walk(path):\n",
        "      for file in f:\n",
        "          if '.npy' in file:\n",
        "              directory.append(os.path.join(r, file))\n",
        "  all_data2.append(directory)\n",
        "\n",
        "#for j in range(len(all_data[0])):\n",
        "  \n",
        "#coronal_test=np.zeros(shape=(16649,256,256,3),dtype='uint8')\n",
        "coronalList=[]\n",
        "test_sizes=[]\n",
        "# axial=[]\n",
        "k=0\n",
        "# sagittal=[]\n",
        "for i in range(len(all_data2[0])):\n",
        "  print(i)\n",
        "  a=np.load(all_data2[0][i])\n",
        "  f,j,k=a.shape\n",
        "  test_sizes.append(f//2)\n",
        "  for j in range(f//2):\n",
        "    b=to_rgb(a[j],i+j)\n",
        "    coronalList.append(b)\n",
        "  \n",
        "    k+=1\n",
        "    \n",
        "coronal_test=np.asarray(coronalList,dtype='uint8')\n",
        "coronalList=None\n",
        "print(coronal_test.shape)\n",
        "    \n",
        "print(coronal_test.shape)\n",
        "cv2_imshow(coronal_test[0])\n",
        "\n",
        "print(\"Done valid reading.\")\n",
        "\n"
      ],
      "execution_count": 0,
      "outputs": []
    },
    {
      "cell_type": "code",
      "metadata": {
        "id": "6g4LiCuJz3KV",
        "colab_type": "code",
        "outputId": "433667be-189a-4824-d60d-93531c290022",
        "colab": {
          "base_uri": "https://localhost:8080/",
          "height": 51
        }
      },
      "source": [
        "#Test labels\n",
        "import pandas as pd\n",
        "\n",
        "data1_test = pd.read_csv(\"/content/gdrive/My Drive/MRNet Challenge/MRNet-v1.0/valid-abnormal.csv\") \n",
        "data2_test = pd.read_csv(\"/content/gdrive/My Drive/MRNet Challenge/MRNet-v1.0/valid-acl.csv\") \n",
        "data3_test = pd.read_csv(\"/content/gdrive/My Drive/MRNet Challenge/MRNet-v1.0/valid-meniscus.csv\") \n",
        "print(data1_test.shape)\n",
        "# print(data1.columns)\n",
        "# print(data1['1'])\n",
        "y_test1=np.array(data1_test[\"0\"])\n",
        "y_test2=np.array(data2_test[\"0\"])\n",
        "y_test3=np.array(data3_test[\"0\"])\n",
        "#print(y_test)\n",
        "y_test1=np.hstack(('1',y_test1));y_test2=np.hstack(('1',y_test2));y_test3=np.hstack(('1',y_test3));\n",
        "print(\"---------------------------------\")"
      ],
      "execution_count": 0,
      "outputs": [
        {
          "output_type": "stream",
          "text": [
            "(119, 2)\n",
            "---------------------------------\n"
          ],
          "name": "stdout"
        }
      ]
    },
    {
      "cell_type": "code",
      "metadata": {
        "id": "QGViGdB-4jjq",
        "colab_type": "code",
        "colab": {}
      },
      "source": [
        "print(data1_test)"
      ],
      "execution_count": 0,
      "outputs": []
    },
    {
      "cell_type": "code",
      "metadata": {
        "id": "sIJ4tQlm4M0H",
        "colab_type": "code",
        "outputId": "696f3e82-90f7-4f09-91da-b522377cc015",
        "colab": {
          "base_uri": "https://localhost:8080/",
          "height": 153
        }
      },
      "source": [
        "\n",
        "\n",
        "# print(y)\n",
        "Y_test1=[];Y_test2=[];Y_test3=[];\n",
        "for i in range(len(test_sizes)):\n",
        "  for j in range(test_sizes[i]):\n",
        "    Y_test1.append(y_test1[i])\n",
        "    Y_test2.append(y_test2[i])\n",
        "    Y_test3.append(y_test3[i])\n",
        " \n",
        "Y_test1=np.asarray(Y_test1);Y_test2=np.asarray(Y_test2);Y_test3=np.asarray(Y_test3)\n",
        "print(Y_test1.shape)\n",
        "#rint(Y_test)\n",
        "# print(data1[:][1])\n",
        "# labels=data1[1]\n",
        "# print(labels)\n",
        "Y_test_1=np.zeros(shape=(1749,2));Y_test_2=np.zeros(shape=(1749,2));Y_test_3=np.zeros(shape=(1749,2))\n",
        "for i in range(1749):\n",
        "  if Y_test1[i] == '1':\n",
        "    Y_test_1[i][1]=1\n",
        "  elif Y_test1[i] == '0':\n",
        "    Y_test_1[i][0]=1\n",
        "  if Y_test2[i] == '1':\n",
        "    Y_test_2[i][1]=1\n",
        "  elif Y_test2[i] == '0':\n",
        "    Y_test_2[i][0]=1\n",
        "  if Y_test3[i] == '1':\n",
        "    Y_test_3[i][1]=1\n",
        "  elif Y_test3[i] == '0':\n",
        "    Y_test_3[i][0]=1\n",
        "      \n",
        "    \n",
        "#Y_train\n",
        "Y_test_2"
      ],
      "execution_count": 0,
      "outputs": [
        {
          "output_type": "stream",
          "text": [
            "(1749,)\n"
          ],
          "name": "stdout"
        },
        {
          "output_type": "execute_result",
          "data": {
            "text/plain": [
              "array([[0., 1.],\n",
              "       [0., 1.],\n",
              "       [0., 1.],\n",
              "       ...,\n",
              "       [1., 0.],\n",
              "       [1., 0.],\n",
              "       [1., 0.]])"
            ]
          },
          "metadata": {
            "tags": []
          },
          "execution_count": 23
        }
      ]
    },
    {
      "cell_type": "markdown",
      "metadata": {
        "id": "ld3h3esOoSuE",
        "colab_type": "text"
      },
      "source": [
        "# Predictions"
      ]
    },
    {
      "cell_type": "code",
      "metadata": {
        "id": "QHPW7ArpoCAf",
        "colab_type": "code",
        "outputId": "e36db7f2-6419-43df-990d-480ae14283fb",
        "colab": {
          "base_uri": "https://localhost:8080/",
          "height": 68
        }
      },
      "source": [
        "preds = model.evaluate(coronal_test, Y_test2)\n",
        "print (\"Loss = \" + str(preds[0]))\n",
        "print (\"Test Accuracy = \" + str(preds[1]))"
      ],
      "execution_count": 0,
      "outputs": [
        {
          "output_type": "stream",
          "text": [
            "1749/1749 [==============================] - 9s 5ms/step\n",
            "Loss = 0.3811340511373413\n",
            "Test Accuracy = 0.8979416809605489\n"
          ],
          "name": "stdout"
        }
      ]
    },
    {
      "cell_type": "code",
      "metadata": {
        "id": "39hgy1mpq-1H",
        "colab_type": "code",
        "outputId": "a11b0667-6076-453e-f630-37a298dcc8c0",
        "colab": {
          "base_uri": "https://localhost:8080/",
          "height": 68
        }
      },
      "source": [
        "preds = model.evaluate(coronal_test, Y_test_1)\n",
        "print (\"Loss = \" + str(preds[0]))\n",
        "print (\"Test Accuracy = \" + str(preds[1]))"
      ],
      "execution_count": 0,
      "outputs": [
        {
          "output_type": "stream",
          "text": [
            "1749/1749 [==============================] - 11s 6ms/step\n",
            "Loss = 3.0337388757844983\n",
            "Test Accuracy = 0.8107489994282447\n"
          ],
          "name": "stdout"
        }
      ]
    },
    {
      "cell_type": "code",
      "metadata": {
        "id": "tqSDG7BGybWI",
        "colab_type": "code",
        "outputId": "284067cc-0985-478e-b386-2dccbb3721dc",
        "colab": {
          "base_uri": "https://localhost:8080/",
          "height": 68
        }
      },
      "source": [
        "preds = model2.evaluate(coronal_test, Y_test2)\n",
        "print (\"Loss = \" + str(preds[0]))\n",
        "print (\"Test Accuracy = \" + str(preds[1]))"
      ],
      "execution_count": 0,
      "outputs": [
        {
          "output_type": "stream",
          "text": [
            "1749/1749 [==============================] - 29s 16ms/step\n",
            "Loss = 0.8142469329892601\n",
            "Test Accuracy = 0.8413379074438018\n"
          ],
          "name": "stdout"
        }
      ]
    },
    {
      "cell_type": "code",
      "metadata": {
        "id": "b-GMy-ozmK_v",
        "colab_type": "code",
        "outputId": "f2460f73-c847-4634-d2fa-f173d6487aef",
        "colab": {
          "base_uri": "https://localhost:8080/",
          "height": 68
        }
      },
      "source": [
        "preds = model3.evaluate(coronal_test, Y_test2)\n",
        "print (\"Loss = \" + str(preds[0]))\n",
        "print (\"Test Accuracy = \" + str(preds[1]))"
      ],
      "execution_count": 0,
      "outputs": [
        {
          "output_type": "stream",
          "text": [
            "1749/1749 [==============================] - 9s 5ms/step\n",
            "Loss = 0.24812371320830814\n",
            "Test Accuracy = 0.7444253860029785\n"
          ],
          "name": "stdout"
        }
      ]
    },
    {
      "cell_type": "markdown",
      "metadata": {
        "id": "eEcgGQrjsXSr",
        "colab_type": "text"
      },
      "source": [
        "# Begin the combined training ( One model will be trained several times once per series )"
      ]
    },
    {
      "cell_type": "code",
      "metadata": {
        "id": "PNo81xd7K_gt",
        "colab_type": "code",
        "colab": {}
      },
      "source": [
        "#Imports\n",
        "import pandas as pd\n",
        "import numpy as np \n",
        "import matplotlib.pyplot as plt\n",
        "import os\n",
        "from urllib.request import urlopen,urlretrieve\n",
        "from PIL import Image\n",
        "from tqdm import tqdm_notebook\n",
        "%matplotlib inline\n",
        "from sklearn.utils import shuffle\n",
        "import cv2\n",
        "import keras\n",
        "from keras.models import load_model\n",
        "from sklearn.datasets import load_files   \n",
        "from keras.utils import np_utils\n",
        "from glob import glob\n",
        "from keras import applications\n",
        "from keras.preprocessing.image import ImageDataGenerator \n",
        "from keras import optimizers\n",
        "from keras.models import Sequential,Model,load_model\n",
        "from keras.layers import Dense, Dropout, Flatten, Conv2D, MaxPool2D,GlobalAveragePooling2D\n",
        "from keras.callbacks import TensorBoard,ReduceLROnPlateau,ModelCheckpoint"
      ],
      "execution_count": 0,
      "outputs": []
    },
    {
      "cell_type": "code",
      "metadata": {
        "id": "Gh1L_3upuXWp",
        "colab_type": "code",
        "colab": {}
      },
      "source": [
        "#Pretrained model\n",
        "img_height,img_width = 256,256 \n",
        "num_classes = 2\n",
        "base_model = applications.resnet50.ResNet50(weights= 'imagenet', include_top=False, input_shape= (img_height,img_width,3))\n",
        "\n",
        "x = base_model.output\n",
        "x = GlobalAveragePooling2D()(x)\n",
        "x = Dropout(0.7)(x)\n",
        "predictions = Dense(num_classes, activation= 'softmax')(x)\n",
        "from keras.optimizers import SGD, Adam\n",
        "adam = Adam(lr=0.0001)\n",
        "\n",
        "\n",
        "coronal_model1 = Model(inputs = base_model.input, outputs = predictions)\n",
        "coronal_model1.compile(optimizer='adam', loss='binary_crossentropy', metrics=['accuracy'])\n",
        "coronal_model2 = Model(inputs = base_model.input, outputs = predictions)\n",
        "coronal_model2.compile(optimizer='adam', loss='binary_crossentropy', metrics=['accuracy'])\n",
        "coronal_model3 = Model(inputs = base_model.input, outputs = predictions)\n",
        "coronal_model3.compile(optimizer='adam', loss='binary_crossentropy', metrics=['accuracy'])\n",
        "\n",
        "\n",
        "\n"
      ],
      "execution_count": 0,
      "outputs": []
    },
    {
      "cell_type": "code",
      "metadata": {
        "id": "akODy3WPGck9",
        "colab_type": "code",
        "outputId": "be797461-b09f-417c-a7c0-9cb9ca1ec3fc",
        "colab": {
          "base_uri": "https://localhost:8080/",
          "height": 221
        }
      },
      "source": [
        "#The fitting step \n",
        "#coronal_model1.fit(coronal, Y_train_1, epochs = 10, batch_size = 32)\n",
        "filepath = '/content/gdrive/My Drive/coronal_abnormal.5.wts.h5'\n",
        "history1=coronal_model1.fit(coronal,\n",
        "    Y_train_1,\n",
        "    batch_size=64,\n",
        "    epochs=5,\n",
        "    verbose=2,\n",
        "     validation_split=0.1,\n",
        "    callbacks = [\n",
        "        keras.callbacks.ModelCheckpoint(filepath, monitor='val_loss', verbose=0, save_best_only=True, mode='auto'),\n",
        "        keras.callbacks.EarlyStopping(monitor='val_loss', patience=3, verbose=0, mode='auto')]\n",
        "    )\n",
        "# we re-load the best weights once training is finished\n",
        "#coronal_model1.load_weights(filepath)\n",
        "print('Abnormal Training is done')\n"
      ],
      "execution_count": 0,
      "outputs": [
        {
          "output_type": "stream",
          "text": [
            "Train on 14984 samples, validate on 1665 samples\n",
            "Epoch 1/5\n",
            " - 238s - loss: 0.4286 - acc: 0.8282 - val_loss: 0.8014 - val_acc: 0.8270\n",
            "Epoch 2/5\n",
            " - 228s - loss: 0.3865 - acc: 0.8478 - val_loss: 0.5890 - val_acc: 0.8150\n",
            "Epoch 3/5\n",
            " - 229s - loss: 0.3713 - acc: 0.8474 - val_loss: 0.6680 - val_acc: 0.8444\n",
            "Epoch 4/5\n",
            " - 229s - loss: 0.3585 - acc: 0.8474 - val_loss: 0.4428 - val_acc: 0.8426\n",
            "Epoch 5/5\n",
            " - 230s - loss: 0.3485 - acc: 0.8486 - val_loss: 0.5832 - val_acc: 0.8450\n",
            "Abnormal Training is done\n"
          ],
          "name": "stdout"
        }
      ]
    },
    {
      "cell_type": "code",
      "metadata": {
        "id": "vKf2UBki0rct",
        "colab_type": "code",
        "colab": {}
      },
      "source": [
        "filepath = '/content/gdrive/My Drive/coronal_abnormal.5.wts.h5'\n",
        "coronal_model1.load_weights(filepath)"
      ],
      "execution_count": 0,
      "outputs": []
    },
    {
      "cell_type": "code",
      "metadata": {
        "id": "d-IE8HiYIXqe",
        "colab_type": "code",
        "outputId": "98a32500-c868-437d-cfc0-e4f1eca261ac",
        "colab": {
          "base_uri": "https://localhost:8080/",
          "height": 221
        }
      },
      "source": [
        "#coronal_model2.fit(coronal, Y_train_2, epochs = 10, batch_size = 32)\n",
        "filepath = '/content/gdrive/My Drive/coronal_acl.5.wts.h5'\n",
        "history2=coronal_model2.fit(coronal,Y_train_2,batch_size=32,epochs=5,verbose=2,validation_split=0.1,callbacks = [keras.callbacks.ModelCheckpoint(filepath, monitor='val_loss', verbose=0, save_best_only=True, mode='auto'),\n",
        "       keras.callbacks.EarlyStopping(monitor='val_loss', patience=3, verbose=0, mode='auto')])\n",
        "\n",
        "print('ACL Training is done')\n"
      ],
      "execution_count": 0,
      "outputs": [
        {
          "output_type": "stream",
          "text": [
            "Train on 14984 samples, validate on 1665 samples\n",
            "Epoch 1/5\n",
            " - 252s - loss: 0.5592 - acc: 0.8022 - val_loss: 0.4471 - val_acc: 0.8492\n",
            "Epoch 2/5\n",
            " - 241s - loss: 0.4811 - acc: 0.8167 - val_loss: 0.4518 - val_acc: 0.8492\n",
            "Epoch 3/5\n",
            " - 242s - loss: 0.4661 - acc: 0.8181 - val_loss: 0.7635 - val_acc: 0.8492\n",
            "Epoch 4/5\n",
            " - 242s - loss: 0.4488 - acc: 0.8193 - val_loss: 0.4388 - val_acc: 0.8511\n",
            "Epoch 5/5\n",
            " - 242s - loss: 0.4409 - acc: 0.8203 - val_loss: 0.4729 - val_acc: 0.8480\n",
            "ACL Training is done\n"
          ],
          "name": "stdout"
        }
      ]
    },
    {
      "cell_type": "code",
      "metadata": {
        "id": "5gh8ES1BIZn6",
        "colab_type": "code",
        "outputId": "dd95eb5c-3104-4eda-adc4-d5b2d7cc9cc8",
        "colab": {
          "base_uri": "https://localhost:8080/",
          "height": 187
        }
      },
      "source": [
        "#coronal_model3.fit(coronal, Y_train_3, epochs = 10, batch_size = 32)\n",
        "filepath = '/content/gdrive/My Drive/coronal_meniscus.5.wts.h5'\n",
        "history3=coronal_model3.fit(coronal,\n",
        "    Y_train_3,\n",
        "    batch_size=64,\n",
        "    epochs=5,\n",
        "    verbose=2,\n",
        "     validation_split=0.1,\n",
        "    callbacks = [\n",
        "        keras.callbacks.ModelCheckpoint(filepath, monitor='val_loss', verbose=0, save_best_only=True, mode='auto'),\n",
        "        keras.callbacks.EarlyStopping(monitor='val_loss', patience=3, verbose=0, mode='auto')]\n",
        "    )\n",
        "# we re-load the best weights once training is finished\n",
        "coronal_model3.load_weights(filepath)\n",
        "print('Meniscus Training is done')"
      ],
      "execution_count": 0,
      "outputs": [
        {
          "output_type": "stream",
          "text": [
            "Train on 14984 samples, validate on 1665 samples\n",
            "Epoch 1/5\n",
            " - 232s - loss: 0.5223 - acc: 0.7405 - val_loss: 0.8096 - val_acc: 0.6505\n",
            "Epoch 2/5\n",
            " - 232s - loss: 0.4877 - acc: 0.7650 - val_loss: 0.9366 - val_acc: 0.5243\n",
            "Epoch 3/5\n",
            " - 231s - loss: 0.4430 - acc: 0.7906 - val_loss: 0.8266 - val_acc: 0.6072\n",
            "Epoch 4/5\n",
            " - 232s - loss: 0.3994 - acc: 0.8161 - val_loss: 0.8442 - val_acc: 0.6733\n",
            "Meniscus Training is done\n"
          ],
          "name": "stdout"
        }
      ]
    },
    {
      "cell_type": "markdown",
      "metadata": {
        "id": "2sNZzpsRwdom",
        "colab_type": "text"
      },
      "source": [
        "# Epochs Graphs"
      ]
    },
    {
      "cell_type": "code",
      "metadata": {
        "id": "ysK0UMOYwlpJ",
        "colab_type": "code",
        "outputId": "bbfb1943-a496-4408-8ef3-de9fa62c1aae",
        "colab": {
          "base_uri": "https://localhost:8080/",
          "height": 573
        }
      },
      "source": [
        "import matplotlib.pyplot  as plt\n",
        "plt.plot(history1.history['acc'])\n",
        "plt.plot(history1.history['val_acc'])\n",
        "plt.title('coronal abnormal accuracy')\n",
        "plt.ylabel('accuracy')\n",
        "plt.xlabel('epoch')\n",
        "plt.legend(['train', 'valid'], loc='upper left')\n",
        "plt.show()\n",
        "# summarize history for loss\n",
        "plt.plot(history1.history['loss'])\n",
        "plt.plot(history1.history['val_loss'])\n",
        "plt.title('axial meniscus loss')\n",
        "plt.ylabel('loss')\n",
        "plt.xlabel('epoch')\n",
        "plt.legend(['train', 'valid'], loc='upper left')\n",
        "plt.show()"
      ],
      "execution_count": 0,
      "outputs": [
        {
          "output_type": "display_data",
          "data": {
            "image/png": "[encoded data removed]",
            "text/plain": [
              "<Figure size 432x288 with 1 Axes>"
            ]
          },
          "metadata": {
            "tags": []
          }
        },
        {
          "output_type": "display_data",
          "data": {
            "image/png": "[encoded data removed]",
            "text/plain": [
              "<Figure size 432x288 with 1 Axes>"
            ]
          },
          "metadata": {
            "tags": []
          }
        }
      ]
    },
    {
      "cell_type": "code",
      "metadata": {
        "id": "D4w6bg4bwl0N",
        "colab_type": "code",
        "outputId": "97d871de-f1c9-43d1-d4a2-e3d45b8b2167",
        "colab": {
          "base_uri": "https://localhost:8080/",
          "height": 573
        }
      },
      "source": [
        "import matplotlib.pyplot  as plt\n",
        "plt.plot(history2.history['acc'])\n",
        "plt.plot(history2.history['val_acc'])\n",
        "plt.title('axial meniscus accuracy')\n",
        "plt.ylabel('accuracy')\n",
        "plt.xlabel('epoch')\n",
        "plt.legend(['train', 'valid'], loc='upper left')\n",
        "plt.show()\n",
        "# summarize history for loss\n",
        "plt.plot(history2.history['loss'])\n",
        "plt.plot(history2.history['val_loss'])\n",
        "plt.title('axial meniscus loss')\n",
        "plt.ylabel('loss')\n",
        "plt.xlabel('epoch')\n",
        "plt.legend(['train', 'valid'], loc='upper left')\n",
        "plt.show()"
      ],
      "execution_count": 0,
      "outputs": [
        {
          "output_type": "display_data",
          "data": {
            "image/png": "[encoded data removed]",
            "text/plain": [
              "<Figure size 432x288 with 1 Axes>"
            ]
          },
          "metadata": {
            "tags": []
          }
        },
        {
          "output_type": "display_data",
          "data": {
            "image/png": "[encoded data removed]",
            "text/plain": [
              "<Figure size 432x288 with 1 Axes>"
            ]
          },
          "metadata": {
            "tags": []
          }
        }
      ]
    },
    {
      "cell_type": "code",
      "metadata": {
        "id": "gZrPKloLwfqG",
        "colab_type": "code",
        "outputId": "c7d8c501-f8ae-4804-e958-64e92d3bded8",
        "colab": {
          "base_uri": "https://localhost:8080/",
          "height": 573
        }
      },
      "source": [
        "import matplotlib.pyplot  as plt\n",
        "plt.plot(history3.history['acc'])\n",
        "plt.plot(history3.history['val_acc'])\n",
        "plt.title('axial meniscus accuracy')\n",
        "plt.ylabel('accuracy')\n",
        "plt.xlabel('epoch')\n",
        "plt.legend(['train', 'valid'], loc='upper left')\n",
        "plt.show()\n",
        "# summarize history for loss\n",
        "plt.plot(history3.history['loss'])\n",
        "plt.plot(history3.history['val_loss'])\n",
        "plt.title('axial meniscus loss')\n",
        "plt.ylabel('loss')\n",
        "plt.xlabel('epoch')\n",
        "plt.legend(['train', 'valid'], loc='upper left')\n",
        "plt.show()"
      ],
      "execution_count": 0,
      "outputs": [
        {
          "output_type": "display_data",
          "data": {
            "image/png": "[encoded data removed]",
            "text/plain": [
              "<Figure size 432x288 with 1 Axes>"
            ]
          },
          "metadata": {
            "tags": []
          }
        },
        {
          "output_type": "display_data",
          "data": {
            "image/png": "[encoded data removed]",
            "text/plain": [
              "<Figure size 432x288 with 1 Axes>"
            ]
          },
          "metadata": {
            "tags": []
          }
        }
      ]
    },
    {
      "cell_type": "markdown",
      "metadata": {
        "id": "CUxzy4K6HLLc",
        "colab_type": "text"
      },
      "source": [
        "# Predictions of Validation set given ( Coronal )"
      ]
    },
    {
      "cell_type": "code",
      "metadata": {
        "id": "L0wg1sCPK5vi",
        "colab_type": "code",
        "outputId": "5c22085e-e8e8-4376-eb1c-bfdd10041c7d",
        "colab": {
          "base_uri": "https://localhost:8080/",
          "height": 34
        }
      },
      "source": [
        "#print(data1_test)\n",
        "#print(y_test1)\n",
        "print(len(Y_test1))\n"
      ],
      "execution_count": 0,
      "outputs": [
        {
          "output_type": "stream",
          "text": [
            "1749\n"
          ],
          "name": "stdout"
        }
      ]
    },
    {
      "cell_type": "code",
      "metadata": {
        "id": "QLqs8IQ_Jfan",
        "colab_type": "code",
        "colab": {}
      },
      "source": [
        "#Loading the test data\n",
        "#Prepare the test set\n",
        "paths =[ \"/content/gdrive/My Drive/MRNet Challenge/MRNet-v1.0/valid/coronal/\"\n",
        "        ,\"/content/gdrive/My Drive/MRNet Challenge/MRNet-v1.0/valid/axial/\",\"/content/gdrive/My Drive/MRNet Challenge/MRNet-v1.0/valid/sagittal/\"]\n",
        "all_data2 = []\n",
        "for path in paths:\n",
        "  directory=[]\n",
        "  for r, d, f in os.walk(path):\n",
        "      f = np.sort(f)\n",
        "      #print(len(f))\n",
        "      for file in f:\n",
        "          if '.npy' in file:\n",
        "              directory.append(os.path.join(r, file))\n",
        "  all_data2.append(directory)\n",
        "\n",
        "#for j in range(len(all_data[0])):\n",
        "def to_rgb(img,i):\n",
        "    img = cv2.resize(img, (256,256), interpolation = cv2.INTER_AREA) \n",
        "#     print(img.shape)\n",
        "    img_rgb = np.asarray(np.dstack((img, img, img)), dtype=np.uint8)\n",
        "#     print(img_rgb.shape)\n",
        "    return img_rgb  \n",
        "#coronal_test=np.zeros(shape=(16649,256,256,3),dtype='uint8')\n",
        "coronalList=[]\n",
        "test_sizes=[]\n",
        "# axial=[]\n",
        "k=0\n",
        "# sagittal=[]\n",
        "for i in range(0,len(all_data2[0])):\n",
        "  print(i)\n",
        "  a=np.load(all_data2[0][i])\n",
        "  f,j,k=a.shape\n",
        "  test_sizes.append(f//2)\n",
        "  for j in range(f//2):\n",
        "    b=to_rgb(a[j],i+j)\n",
        "    coronalList.append(b)\n",
        "  \n",
        "    k+=1\n",
        "    \n",
        "coronal_test=np.asarray(coronalList,dtype='uint8')\n",
        "coronalList=None\n",
        "print(\"LEN: \",len(coronal_test))\n",
        "    \n",
        "#print(coronal_test.shape)\n",
        "#cv2_imshow(coronal_test[0])\n",
        "\n",
        "print(\"Done valid reading.\")\n",
        "\n",
        "#Loading test labels\n",
        "#Test labels\n",
        "import pandas as pd\n",
        "\n",
        "data1_test = pd.read_csv(\"/content/gdrive/My Drive/MRNet Challenge/MRNet-v1.0/valid-abnormal.csv\") \n",
        "data2_test = pd.read_csv(\"/content/gdrive/My Drive/MRNet Challenge/MRNet-v1.0/valid-acl.csv\") \n",
        "data3_test = pd.read_csv(\"/content/gdrive/My Drive/MRNet Challenge/MRNet-v1.0/valid-meniscus.csv\") \n",
        "\n",
        "print(data1_test.shape)\n",
        "# print(data1.columns)\n",
        "# print(data1['1'])\n",
        "y_test1=np.array(data1_test[\"0\"])\n",
        "y_test2=np.array(data2_test[\"0\"])\n",
        "y_test3=np.array(data3_test[\"0\"])\n",
        "print(\"1: \",len(y_test1))\n",
        "#print(y_test)\n",
        "y_test1=np.hstack(('0',y_test1));y_test2=np.hstack(('0',y_test2));y_test3=np.hstack(('0',y_test3));\n",
        "print(\"2: \",len(y_test2))\n",
        "print(\"---------------------------------\")\n",
        "\n",
        "Y_test1=[];Y_test2=[];Y_test3=[];\n",
        "for i in range(len(test_sizes)):\n",
        "  for j in range(test_sizes[i]):\n",
        "    Y_test1.append(y_test1[i])\n",
        "    Y_test2.append(y_test2[i])\n",
        "    Y_test3.append(y_test3[i])\n",
        " \n",
        "Y_test1=np.asarray(Y_test1);Y_test2=np.asarray(Y_test2);Y_test3=np.asarray(Y_test3)\n",
        "print(\"LENGHT: \",len(Y_test1))\n",
        "#rint(Y_test)\n",
        "# print(data1[:][1])\n",
        "# labels=data1[1]\n",
        "# print(labels)\n",
        "Y_test_1=np.zeros(shape=(len(Y_test1),2));Y_test_2=np.zeros(shape=(len(Y_test2),2));Y_test_3=np.zeros(shape=(len(Y_test3),2))\n",
        "for i in range(len(Y_test1)):\n",
        "  if Y_test1[i] == '1':\n",
        "    Y_test_1[i][1]=1\n",
        "  elif Y_test1[i] == '0':\n",
        "    Y_test_1[i][0]=1\n",
        "  if Y_test2[i] == '1':\n",
        "    Y_test_2[i][1]=1\n",
        "  elif Y_test2[i] == '0':\n",
        "    Y_test_2[i][0]=1\n",
        "  if Y_test3[i] == '1':\n",
        "    Y_test_3[i][1]=1\n",
        "  elif Y_test3[i] == '0':\n",
        "    Y_test_3[i][0]=1\n",
        "      \n",
        "#Y_train\n",
        "Y_test_2"
      ],
      "execution_count": 0,
      "outputs": []
    },
    {
      "cell_type": "code",
      "metadata": {
        "id": "wCwoF6D0IgKp",
        "colab_type": "code",
        "outputId": "66e5a849-acce-42a5-c356-a1e39b71e239",
        "colab": {
          "base_uri": "https://localhost:8080/",
          "height": 34
        }
      },
      "source": [
        "print(f)"
      ],
      "execution_count": 0,
      "outputs": [
        {
          "output_type": "stream",
          "text": [
            "17\n"
          ],
          "name": "stdout"
        }
      ]
    },
    {
      "cell_type": "code",
      "metadata": {
        "id": "A1vhF_J9po2_",
        "colab_type": "code",
        "colab": {}
      },
      "source": [
        "coronal_model1.load_weights()"
      ],
      "execution_count": 0,
      "outputs": []
    },
    {
      "cell_type": "code",
      "metadata": {
        "id": "j8DRxQY0JfhU",
        "colab_type": "code",
        "outputId": "254897b7-598a-4843-a034-de9c000240bf",
        "colab": {
          "base_uri": "https://localhost:8080/",
          "height": 68
        }
      },
      "source": [
        "#Predict\n",
        "preds1 = coronal_model1.evaluate(coronal_test, Y_test_1)\n",
        "print (\"Loss = \" + str(preds1[0]))\n",
        "print (\"Test Accuracy = \" + str(preds1[1]))"
      ],
      "execution_count": 0,
      "outputs": [
        {
          "output_type": "stream",
          "text": [
            "1749/1749 [==============================] - 9s 5ms/step\n",
            "Loss = 0.7957430336456117\n",
            "Test Accuracy = 0.8096054888507719\n"
          ],
          "name": "stdout"
        }
      ]
    },
    {
      "cell_type": "code",
      "metadata": {
        "id": "IWUqOzayJfox",
        "colab_type": "code",
        "outputId": "144e9ce6-f349-4e0d-ccdc-821e9f3eb7e6",
        "colab": {
          "base_uri": "https://localhost:8080/",
          "height": 68
        }
      },
      "source": [
        "preds2 = coronal_model2.evaluate(coronal_test, Y_test_2)\n",
        "print (\"Loss = \" + str(preds2[0]))\n",
        "print (\"Test Accuracy = \" + str(preds2[1]))"
      ],
      "execution_count": 0,
      "outputs": [
        {
          "output_type": "stream",
          "text": [
            "1749/1749 [==============================] - 9s 5ms/step\n",
            "Loss = 1.3259018974484138\n",
            "Test Accuracy = 0.578616352286456\n"
          ],
          "name": "stdout"
        }
      ]
    },
    {
      "cell_type": "code",
      "metadata": {
        "id": "Tad5mOI8Yzn6",
        "colab_type": "code",
        "outputId": "21b9fe05-25a9-4089-f6f1-3736a9f15d22",
        "colab": {
          "base_uri": "https://localhost:8080/",
          "height": 68
        }
      },
      "source": [
        "preds3 = coronal_model3.evaluate(coronal_test, Y_test_3)\n",
        "print (\"Loss = \" + str(preds3[0]))\n",
        "print (\"Test Accuracy = \" + str(preds3[1]))"
      ],
      "execution_count": 0,
      "outputs": [
        {
          "output_type": "stream",
          "text": [
            "1749/1749 [==============================] - 9s 5ms/step\n",
            "Loss = 0.9641261137574656\n",
            "Test Accuracy = 0.5883361921097771\n"
          ],
          "name": "stdout"
        }
      ]
    },
    {
      "cell_type": "markdown",
      "metadata": {
        "id": "KVMwAfA_dPhD",
        "colab_type": "text"
      },
      "source": [
        "# Logistic Regression"
      ]
    },
    {
      "cell_type": "code",
      "metadata": {
        "id": "595JkFIedSQv",
        "colab_type": "code",
        "colab": {}
      },
      "source": [
        "from sklearn.linear_model import LogisticRegression\n",
        "abnormal_reg = LogisticRegression(random_state=0, solver='lbfgs',multi_class='multinomial').fit(X, Y_test_1)\n",
        "acl_reg = LogisticRegression(random_state=0, solver='lbfgs',multi_class='multinomial').fit(X, Y_test_2)\n",
        "men_reg = LogisticRegression(random_state=0, solver='lbfgs',multi_class='multinomial').fit(X, Y_test_3)"
      ],
      "execution_count": 0,
      "outputs": []
    }
  ]
}